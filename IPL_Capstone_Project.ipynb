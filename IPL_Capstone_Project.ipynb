{
 "cells": [
  {
   "cell_type": "markdown",
   "id": "20ddbce6-8ca0-4846-8903-f3c42a0f07af",
   "metadata": {},
   "source": [
    "### IPL 2022 Capstone Project"
   ]
  },
  {
   "cell_type": "markdown",
   "id": "460f0d67-bb6a-41b6-bba7-899b6d324bd7",
   "metadata": {},
   "source": [
    "### Loading the Libraries and Dataset"
   ]
  },
  {
   "cell_type": "code",
   "execution_count": 1,
   "id": "9edc7567-369a-4405-a80a-846291278fe2",
   "metadata": {},
   "outputs": [
    {
     "data": {
      "application/vnd.microsoft.datawrangler.viewer.v0+json": {
       "columns": [
        {
         "name": "index",
         "rawType": "int64",
         "type": "integer"
        },
        {
         "name": "match_id",
         "rawType": "int64",
         "type": "integer"
        },
        {
         "name": "date",
         "rawType": "object",
         "type": "string"
        },
        {
         "name": "venue",
         "rawType": "object",
         "type": "string"
        },
        {
         "name": "team1",
         "rawType": "object",
         "type": "string"
        },
        {
         "name": "team2",
         "rawType": "object",
         "type": "string"
        },
        {
         "name": "stage",
         "rawType": "object",
         "type": "string"
        },
        {
         "name": "toss_winner",
         "rawType": "object",
         "type": "string"
        },
        {
         "name": "toss_decision",
         "rawType": "object",
         "type": "string"
        },
        {
         "name": "first_ings_score",
         "rawType": "int64",
         "type": "integer"
        },
        {
         "name": "first_ings_wkts",
         "rawType": "int64",
         "type": "integer"
        },
        {
         "name": "second_ings_score",
         "rawType": "int64",
         "type": "integer"
        },
        {
         "name": "second_ings_wkts",
         "rawType": "int64",
         "type": "integer"
        },
        {
         "name": "match_winner",
         "rawType": "object",
         "type": "string"
        },
        {
         "name": "won_by",
         "rawType": "object",
         "type": "string"
        },
        {
         "name": "margin",
         "rawType": "int64",
         "type": "integer"
        },
        {
         "name": "player_of_the_match",
         "rawType": "object",
         "type": "string"
        },
        {
         "name": "top_scorer",
         "rawType": "object",
         "type": "string"
        },
        {
         "name": "highscore",
         "rawType": "int64",
         "type": "integer"
        },
        {
         "name": "best_bowling",
         "rawType": "object",
         "type": "string"
        },
        {
         "name": "best_bowling_figure",
         "rawType": "object",
         "type": "string"
        }
       ],
       "ref": "99fa3a5e-ee89-4c27-a081-44ef538e01d5",
       "rows": [
        [
         "0",
         "1",
         "March 26,2022",
         "Wankhede Stadium, Mumbai",
         "Chennai",
         "Kolkata",
         "Group",
         "Kolkata",
         "Field",
         "131",
         "5",
         "133",
         "4",
         "Kolkata",
         "Wickets",
         "6",
         "Umesh Yadav",
         "MS Dhoni",
         "50",
         "Dwayne Bravo",
         "3--20"
        ],
        [
         "1",
         "2",
         "March 27,2022",
         "Brabourne Stadium, Mumbai",
         "Delhi",
         "Mumbai",
         "Group",
         "Delhi",
         "Field",
         "177",
         "5",
         "179",
         "6",
         "Delhi",
         "Wickets",
         "4",
         "Kuldeep Yadav",
         "Ishan Kishan",
         "81",
         "Kuldeep Yadav",
         "3--18"
        ],
        [
         "2",
         "3",
         "March 27,2022",
         "Dr DY Patil Sports Academy, Mumbai",
         "Banglore",
         "Punjab",
         "Group",
         "Punjab",
         "Field",
         "205",
         "2",
         "208",
         "5",
         "Punjab",
         "Wickets",
         "5",
         "Odean Smith",
         "Faf du Plessis",
         "88",
         "Mohammed Siraj",
         "2--59"
        ],
        [
         "3",
         "4",
         "March 28,2022",
         "Wankhede Stadium, Mumbai",
         "Gujarat",
         "Lucknow",
         "Group",
         "Gujarat",
         "Field",
         "158",
         "6",
         "161",
         "5",
         "Gujarat",
         "Wickets",
         "5",
         "Mohammed Shami",
         "Deepak Hooda",
         "55",
         "Mohammed Shami",
         "3--25"
        ],
        [
         "4",
         "5",
         "March 29,2022",
         "Maharashtra Cricket Association Stadium,Pune",
         "Hyderabad",
         "Rajasthan",
         "Group",
         "Hyderabad",
         "Field",
         "210",
         "6",
         "149",
         "7",
         "Rajasthan",
         "Runs",
         "61",
         "Sanju Samson",
         "Aiden Markram",
         "57",
         "Yuzvendra Chahal",
         "3--22"
        ]
       ],
       "shape": {
        "columns": 20,
        "rows": 5
       }
      },
      "text/html": [
       "<div>\n",
       "<style scoped>\n",
       "    .dataframe tbody tr th:only-of-type {\n",
       "        vertical-align: middle;\n",
       "    }\n",
       "\n",
       "    .dataframe tbody tr th {\n",
       "        vertical-align: top;\n",
       "    }\n",
       "\n",
       "    .dataframe thead th {\n",
       "        text-align: right;\n",
       "    }\n",
       "</style>\n",
       "<table border=\"1\" class=\"dataframe\">\n",
       "  <thead>\n",
       "    <tr style=\"text-align: right;\">\n",
       "      <th></th>\n",
       "      <th>match_id</th>\n",
       "      <th>date</th>\n",
       "      <th>venue</th>\n",
       "      <th>team1</th>\n",
       "      <th>team2</th>\n",
       "      <th>stage</th>\n",
       "      <th>toss_winner</th>\n",
       "      <th>toss_decision</th>\n",
       "      <th>first_ings_score</th>\n",
       "      <th>first_ings_wkts</th>\n",
       "      <th>second_ings_score</th>\n",
       "      <th>second_ings_wkts</th>\n",
       "      <th>match_winner</th>\n",
       "      <th>won_by</th>\n",
       "      <th>margin</th>\n",
       "      <th>player_of_the_match</th>\n",
       "      <th>top_scorer</th>\n",
       "      <th>highscore</th>\n",
       "      <th>best_bowling</th>\n",
       "      <th>best_bowling_figure</th>\n",
       "    </tr>\n",
       "  </thead>\n",
       "  <tbody>\n",
       "    <tr>\n",
       "      <th>0</th>\n",
       "      <td>1</td>\n",
       "      <td>March 26,2022</td>\n",
       "      <td>Wankhede Stadium, Mumbai</td>\n",
       "      <td>Chennai</td>\n",
       "      <td>Kolkata</td>\n",
       "      <td>Group</td>\n",
       "      <td>Kolkata</td>\n",
       "      <td>Field</td>\n",
       "      <td>131</td>\n",
       "      <td>5</td>\n",
       "      <td>133</td>\n",
       "      <td>4</td>\n",
       "      <td>Kolkata</td>\n",
       "      <td>Wickets</td>\n",
       "      <td>6</td>\n",
       "      <td>Umesh Yadav</td>\n",
       "      <td>MS Dhoni</td>\n",
       "      <td>50</td>\n",
       "      <td>Dwayne Bravo</td>\n",
       "      <td>3--20</td>\n",
       "    </tr>\n",
       "    <tr>\n",
       "      <th>1</th>\n",
       "      <td>2</td>\n",
       "      <td>March 27,2022</td>\n",
       "      <td>Brabourne Stadium, Mumbai</td>\n",
       "      <td>Delhi</td>\n",
       "      <td>Mumbai</td>\n",
       "      <td>Group</td>\n",
       "      <td>Delhi</td>\n",
       "      <td>Field</td>\n",
       "      <td>177</td>\n",
       "      <td>5</td>\n",
       "      <td>179</td>\n",
       "      <td>6</td>\n",
       "      <td>Delhi</td>\n",
       "      <td>Wickets</td>\n",
       "      <td>4</td>\n",
       "      <td>Kuldeep Yadav</td>\n",
       "      <td>Ishan Kishan</td>\n",
       "      <td>81</td>\n",
       "      <td>Kuldeep Yadav</td>\n",
       "      <td>3--18</td>\n",
       "    </tr>\n",
       "    <tr>\n",
       "      <th>2</th>\n",
       "      <td>3</td>\n",
       "      <td>March 27,2022</td>\n",
       "      <td>Dr DY Patil Sports Academy, Mumbai</td>\n",
       "      <td>Banglore</td>\n",
       "      <td>Punjab</td>\n",
       "      <td>Group</td>\n",
       "      <td>Punjab</td>\n",
       "      <td>Field</td>\n",
       "      <td>205</td>\n",
       "      <td>2</td>\n",
       "      <td>208</td>\n",
       "      <td>5</td>\n",
       "      <td>Punjab</td>\n",
       "      <td>Wickets</td>\n",
       "      <td>5</td>\n",
       "      <td>Odean Smith</td>\n",
       "      <td>Faf du Plessis</td>\n",
       "      <td>88</td>\n",
       "      <td>Mohammed Siraj</td>\n",
       "      <td>2--59</td>\n",
       "    </tr>\n",
       "    <tr>\n",
       "      <th>3</th>\n",
       "      <td>4</td>\n",
       "      <td>March 28,2022</td>\n",
       "      <td>Wankhede Stadium, Mumbai</td>\n",
       "      <td>Gujarat</td>\n",
       "      <td>Lucknow</td>\n",
       "      <td>Group</td>\n",
       "      <td>Gujarat</td>\n",
       "      <td>Field</td>\n",
       "      <td>158</td>\n",
       "      <td>6</td>\n",
       "      <td>161</td>\n",
       "      <td>5</td>\n",
       "      <td>Gujarat</td>\n",
       "      <td>Wickets</td>\n",
       "      <td>5</td>\n",
       "      <td>Mohammed Shami</td>\n",
       "      <td>Deepak Hooda</td>\n",
       "      <td>55</td>\n",
       "      <td>Mohammed Shami</td>\n",
       "      <td>3--25</td>\n",
       "    </tr>\n",
       "    <tr>\n",
       "      <th>4</th>\n",
       "      <td>5</td>\n",
       "      <td>March 29,2022</td>\n",
       "      <td>Maharashtra Cricket Association Stadium,Pune</td>\n",
       "      <td>Hyderabad</td>\n",
       "      <td>Rajasthan</td>\n",
       "      <td>Group</td>\n",
       "      <td>Hyderabad</td>\n",
       "      <td>Field</td>\n",
       "      <td>210</td>\n",
       "      <td>6</td>\n",
       "      <td>149</td>\n",
       "      <td>7</td>\n",
       "      <td>Rajasthan</td>\n",
       "      <td>Runs</td>\n",
       "      <td>61</td>\n",
       "      <td>Sanju Samson</td>\n",
       "      <td>Aiden Markram</td>\n",
       "      <td>57</td>\n",
       "      <td>Yuzvendra Chahal</td>\n",
       "      <td>3--22</td>\n",
       "    </tr>\n",
       "  </tbody>\n",
       "</table>\n",
       "</div>"
      ],
      "text/plain": [
       "   match_id           date                                         venue  \\\n",
       "0         1  March 26,2022                      Wankhede Stadium, Mumbai   \n",
       "1         2  March 27,2022                     Brabourne Stadium, Mumbai   \n",
       "2         3  March 27,2022            Dr DY Patil Sports Academy, Mumbai   \n",
       "3         4  March 28,2022                      Wankhede Stadium, Mumbai   \n",
       "4         5  March 29,2022  Maharashtra Cricket Association Stadium,Pune   \n",
       "\n",
       "       team1      team2  stage toss_winner toss_decision  first_ings_score  \\\n",
       "0    Chennai    Kolkata  Group     Kolkata         Field               131   \n",
       "1      Delhi     Mumbai  Group       Delhi         Field               177   \n",
       "2   Banglore     Punjab  Group      Punjab         Field               205   \n",
       "3    Gujarat    Lucknow  Group     Gujarat         Field               158   \n",
       "4  Hyderabad  Rajasthan  Group   Hyderabad         Field               210   \n",
       "\n",
       "   first_ings_wkts  second_ings_score  second_ings_wkts match_winner   won_by  \\\n",
       "0                5                133                 4      Kolkata  Wickets   \n",
       "1                5                179                 6        Delhi  Wickets   \n",
       "2                2                208                 5       Punjab  Wickets   \n",
       "3                6                161                 5      Gujarat  Wickets   \n",
       "4                6                149                 7    Rajasthan     Runs   \n",
       "\n",
       "   margin player_of_the_match      top_scorer  highscore      best_bowling  \\\n",
       "0       6         Umesh Yadav        MS Dhoni         50      Dwayne Bravo   \n",
       "1       4       Kuldeep Yadav    Ishan Kishan         81     Kuldeep Yadav   \n",
       "2       5         Odean Smith  Faf du Plessis         88    Mohammed Siraj   \n",
       "3       5      Mohammed Shami    Deepak Hooda         55    Mohammed Shami   \n",
       "4      61        Sanju Samson   Aiden Markram         57  Yuzvendra Chahal   \n",
       "\n",
       "  best_bowling_figure  \n",
       "0               3--20  \n",
       "1               3--18  \n",
       "2               2--59  \n",
       "3               3--25  \n",
       "4               3--22  "
      ]
     },
     "execution_count": 1,
     "metadata": {},
     "output_type": "execute_result"
    }
   ],
   "source": [
    "import numpy as np \n",
    "import pandas as pd \n",
    "import seaborn as sns \n",
    "import matplotlib.pyplot as plt \n",
    "import warnings \n",
    "warnings.filterwarnings(\"ignore\")\n",
    "\n",
    "df = pd.read_csv( 'IPL.csv')\n",
    "df.head()"
   ]
  },
  {
   "cell_type": "markdown",
   "id": "761027b0-490c-47d7-bae8-3b73e95d36e9",
   "metadata": {},
   "source": [
    "### Basic Information"
   ]
  },
  {
   "cell_type": "code",
   "execution_count": 2,
   "id": "b6d0c558-47b3-4d36-bb38-311235c2c784",
   "metadata": {},
   "outputs": [
    {
     "name": "stdout",
     "output_type": "stream",
     "text": [
      "<class 'pandas.core.frame.DataFrame'>\n",
      "RangeIndex: 74 entries, 0 to 73\n",
      "Data columns (total 20 columns):\n",
      " #   Column               Non-Null Count  Dtype \n",
      "---  ------               --------------  ----- \n",
      " 0   match_id             74 non-null     int64 \n",
      " 1   date                 74 non-null     object\n",
      " 2   venue                74 non-null     object\n",
      " 3   team1                74 non-null     object\n",
      " 4   team2                74 non-null     object\n",
      " 5   stage                74 non-null     object\n",
      " 6   toss_winner          74 non-null     object\n",
      " 7   toss_decision        74 non-null     object\n",
      " 8   first_ings_score     74 non-null     int64 \n",
      " 9   first_ings_wkts      74 non-null     int64 \n",
      " 10  second_ings_score    74 non-null     int64 \n",
      " 11  second_ings_wkts     74 non-null     int64 \n",
      " 12  match_winner         74 non-null     object\n",
      " 13  won_by               74 non-null     object\n",
      " 14  margin               74 non-null     int64 \n",
      " 15  player_of_the_match  74 non-null     object\n",
      " 16  top_scorer           74 non-null     object\n",
      " 17  highscore            74 non-null     int64 \n",
      " 18  best_bowling         74 non-null     object\n",
      " 19  best_bowling_figure  74 non-null     object\n",
      "dtypes: int64(7), object(13)\n",
      "memory usage: 11.7+ KB\n"
     ]
    }
   ],
   "source": [
    "df.info()"
   ]
  },
  {
   "cell_type": "markdown",
   "id": "d717c591-238a-43eb-88f2-cf2ec966edb0",
   "metadata": {},
   "source": [
    "Check the size of rows and columns of the dataset"
   ]
  },
  {
   "cell_type": "markdown",
   "id": "71728207-924f-4024-a0ad-3e61591d5d0a",
   "metadata": {},
   "source": [
    "Now let's see how many columns have null values in total."
   ]
  },
  {
   "cell_type": "code",
   "execution_count": 4,
   "id": "b64f2f03-5c60-4654-b0e1-9ddf8542c218",
   "metadata": {},
   "outputs": [
    {
     "data": {
      "application/vnd.microsoft.datawrangler.viewer.v0+json": {
       "columns": [
        {
         "name": "index",
         "rawType": "object",
         "type": "string"
        },
        {
         "name": "0",
         "rawType": "int64",
         "type": "integer"
        }
       ],
       "ref": "d94c77d8-8a51-4699-be61-c52dc4c6a366",
       "rows": [
        [
         "match_id",
         "0"
        ],
        [
         "date",
         "0"
        ],
        [
         "venue",
         "0"
        ],
        [
         "team1",
         "0"
        ],
        [
         "team2",
         "0"
        ],
        [
         "stage",
         "0"
        ],
        [
         "toss_winner",
         "0"
        ],
        [
         "toss_decision",
         "0"
        ],
        [
         "first_ings_score",
         "0"
        ],
        [
         "first_ings_wkts",
         "0"
        ],
        [
         "second_ings_score",
         "0"
        ],
        [
         "second_ings_wkts",
         "0"
        ],
        [
         "match_winner",
         "0"
        ],
        [
         "won_by",
         "0"
        ],
        [
         "margin",
         "0"
        ],
        [
         "player_of_the_match",
         "0"
        ],
        [
         "top_scorer",
         "0"
        ],
        [
         "highscore",
         "0"
        ],
        [
         "best_bowling",
         "0"
        ],
        [
         "best_bowling_figure",
         "0"
        ]
       ],
       "shape": {
        "columns": 1,
        "rows": 20
       }
      },
      "text/plain": [
       "match_id               0\n",
       "date                   0\n",
       "venue                  0\n",
       "team1                  0\n",
       "team2                  0\n",
       "stage                  0\n",
       "toss_winner            0\n",
       "toss_decision          0\n",
       "first_ings_score       0\n",
       "first_ings_wkts        0\n",
       "second_ings_score      0\n",
       "second_ings_wkts       0\n",
       "match_winner           0\n",
       "won_by                 0\n",
       "margin                 0\n",
       "player_of_the_match    0\n",
       "top_scorer             0\n",
       "highscore              0\n",
       "best_bowling           0\n",
       "best_bowling_figure    0\n",
       "dtype: int64"
      ]
     },
     "execution_count": 4,
     "metadata": {},
     "output_type": "execute_result"
    }
   ],
   "source": [
    "df.isnull().sum()"
   ]
  },
  {
   "cell_type": "markdown",
   "id": "552e17c7-7dc8-4caf-a583-0c06e7415fa1",
   "metadata": {},
   "source": [
    "**Now, Here comes some Basic Questions**"
   ]
  },
  {
   "cell_type": "markdown",
   "id": "80396e96-8356-4dba-9f1b-7907d333d750",
   "metadata": {},
   "source": [
    "1. Which team won the most matches?"
   ]
  },
  {
   "cell_type": "code",
   "execution_count": 34,
   "id": "af24080f-9531-426f-aa06-7165db3817f9",
   "metadata": {},
   "outputs": [
    {
     "data": {
      "application/vnd.microsoft.datawrangler.viewer.v0+json": {
       "columns": [
        {
         "name": "match_winner",
         "rawType": "object",
         "type": "string"
        },
        {
         "name": "count",
         "rawType": "int64",
         "type": "integer"
        }
       ],
       "ref": "d76c5f98-93a5-40a1-bb12-5ba31f0a4af2",
       "rows": [
        [
         "Gujarat",
         "12"
        ],
        [
         "Rajasthan",
         "10"
        ],
        [
         "Banglore",
         "9"
        ],
        [
         "Lucknow",
         "9"
        ],
        [
         "Delhi",
         "7"
        ],
        [
         "Punjab",
         "7"
        ],
        [
         "Kolkata",
         "6"
        ],
        [
         "Hyderabad",
         "6"
        ],
        [
         "Chennai",
         "4"
        ],
        [
         "Mumbai",
         "4"
        ]
       ],
       "shape": {
        "columns": 1,
        "rows": 10
       }
      },
      "text/plain": [
       "match_winner\n",
       "Gujarat      12\n",
       "Rajasthan    10\n",
       "Banglore      9\n",
       "Lucknow       9\n",
       "Delhi         7\n",
       "Punjab        7\n",
       "Kolkata       6\n",
       "Hyderabad     6\n",
       "Chennai       4\n",
       "Mumbai        4\n",
       "Name: count, dtype: int64"
      ]
     },
     "execution_count": 34,
     "metadata": {},
     "output_type": "execute_result"
    }
   ],
   "source": [
    "match_wins = df['match_winner'].value_counts()\n",
    "match_wins"
   ]
  },
  {
   "cell_type": "code",
   "execution_count": 6,
   "id": "41754513",
   "metadata": {},
   "outputs": [
    {
     "data": {
      "text/plain": [
       "Text(0.5, 1.0, 'Most match win by team ')"
      ]
     },
     "execution_count": 6,
     "metadata": {},
     "output_type": "execute_result"
    },
    {
     "data": {
      "image/png": "[encoded data removed]",
      "text/plain": [
       "<Figure size 640x480 with 1 Axes>"
      ]
     },
     "metadata": {},
     "output_type": "display_data"
    }
   ],
   "source": [
    "sns.barplot(y = match_wins.index, x = match_wins.values,palette='viridis')\n",
    "plt.title(\"Most match win by team \")"
   ]
  },
  {
   "cell_type": "markdown",
   "id": "b011bdbf-b57f-4cd2-99fc-ae43109b0f59",
   "metadata": {},
   "source": [
    "2. Toss Decision Trends"
   ]
  },
  {
   "cell_type": "code",
   "execution_count": 7,
   "id": "76eede40",
   "metadata": {},
   "outputs": [
    {
     "data": {
      "text/plain": [
       "array(['Field', 'Bat'], dtype=object)"
      ]
     },
     "execution_count": 7,
     "metadata": {},
     "output_type": "execute_result"
    }
   ],
   "source": [
    "df['toss_decision'].unique()"
   ]
  },
  {
   "cell_type": "code",
   "execution_count": 8,
   "id": "9e73a24d-cf5f-4c6c-92cb-cde758948ab9",
   "metadata": {},
   "outputs": [
    {
     "data": {
      "text/plain": [
       "Text(0.5, 1.0, 'Toss Decision Trends ')"
      ]
     },
     "execution_count": 8,
     "metadata": {},
     "output_type": "execute_result"
    },
    {
     "data": {
      "image/png": "[encoded data removed]",
      "text/plain": [
       "<Figure size 640x480 with 1 Axes>"
      ]
     },
     "metadata": {},
     "output_type": "display_data"
    }
   ],
   "source": [
    "sns.countplot(x = df['toss_decision'],palette='rainbow')\n",
    "plt.title(\"Toss Decision Trends \")"
   ]
  },
  {
   "cell_type": "markdown",
   "id": "07c65194-6e99-4be5-9b53-caa890f0864b",
   "metadata": {},
   "source": [
    "3. Toss Winner vs Match Winner"
   ]
  },
  {
   "cell_type": "code",
   "execution_count": 9,
   "id": "4f4924c3",
   "metadata": {},
   "outputs": [
    {
     "data": {
      "application/vnd.microsoft.datawrangler.viewer.v0+json": {
       "columns": [
        {
         "name": "index",
         "rawType": "int64",
         "type": "integer"
        },
        {
         "name": "match_id",
         "rawType": "int64",
         "type": "integer"
        },
        {
         "name": "date",
         "rawType": "object",
         "type": "string"
        },
        {
         "name": "venue",
         "rawType": "object",
         "type": "string"
        },
        {
         "name": "team1",
         "rawType": "object",
         "type": "string"
        },
        {
         "name": "team2",
         "rawType": "object",
         "type": "string"
        },
        {
         "name": "stage",
         "rawType": "object",
         "type": "string"
        },
        {
         "name": "toss_winner",
         "rawType": "object",
         "type": "string"
        },
        {
         "name": "toss_decision",
         "rawType": "object",
         "type": "string"
        },
        {
         "name": "first_ings_score",
         "rawType": "int64",
         "type": "integer"
        },
        {
         "name": "first_ings_wkts",
         "rawType": "int64",
         "type": "integer"
        },
        {
         "name": "second_ings_score",
         "rawType": "int64",
         "type": "integer"
        },
        {
         "name": "second_ings_wkts",
         "rawType": "int64",
         "type": "integer"
        },
        {
         "name": "match_winner",
         "rawType": "object",
         "type": "string"
        },
        {
         "name": "won_by",
         "rawType": "object",
         "type": "string"
        },
        {
         "name": "margin",
         "rawType": "int64",
         "type": "integer"
        },
        {
         "name": "player_of_the_match",
         "rawType": "object",
         "type": "string"
        },
        {
         "name": "top_scorer",
         "rawType": "object",
         "type": "string"
        },
        {
         "name": "highscore",
         "rawType": "int64",
         "type": "integer"
        },
        {
         "name": "best_bowling",
         "rawType": "object",
         "type": "string"
        },
        {
         "name": "best_bowling_figure",
         "rawType": "object",
         "type": "string"
        }
       ],
       "ref": "e75fb6d3-5e37-4396-bf37-6155a5112664",
       "rows": [
        [
         "0",
         "1",
         "March 26,2022",
         "Wankhede Stadium, Mumbai",
         "Chennai",
         "Kolkata",
         "Group",
         "Kolkata",
         "Field",
         "131",
         "5",
         "133",
         "4",
         "Kolkata",
         "Wickets",
         "6",
         "Umesh Yadav",
         "MS Dhoni",
         "50",
         "Dwayne Bravo",
         "3--20"
        ],
        [
         "1",
         "2",
         "March 27,2022",
         "Brabourne Stadium, Mumbai",
         "Delhi",
         "Mumbai",
         "Group",
         "Delhi",
         "Field",
         "177",
         "5",
         "179",
         "6",
         "Delhi",
         "Wickets",
         "4",
         "Kuldeep Yadav",
         "Ishan Kishan",
         "81",
         "Kuldeep Yadav",
         "3--18"
        ],
        [
         "2",
         "3",
         "March 27,2022",
         "Dr DY Patil Sports Academy, Mumbai",
         "Banglore",
         "Punjab",
         "Group",
         "Punjab",
         "Field",
         "205",
         "2",
         "208",
         "5",
         "Punjab",
         "Wickets",
         "5",
         "Odean Smith",
         "Faf du Plessis",
         "88",
         "Mohammed Siraj",
         "2--59"
        ]
       ],
       "shape": {
        "columns": 20,
        "rows": 3
       }
      },
      "text/html": [
       "<div>\n",
       "<style scoped>\n",
       "    .dataframe tbody tr th:only-of-type {\n",
       "        vertical-align: middle;\n",
       "    }\n",
       "\n",
       "    .dataframe tbody tr th {\n",
       "        vertical-align: top;\n",
       "    }\n",
       "\n",
       "    .dataframe thead th {\n",
       "        text-align: right;\n",
       "    }\n",
       "</style>\n",
       "<table border=\"1\" class=\"dataframe\">\n",
       "  <thead>\n",
       "    <tr style=\"text-align: right;\">\n",
       "      <th></th>\n",
       "      <th>match_id</th>\n",
       "      <th>date</th>\n",
       "      <th>venue</th>\n",
       "      <th>team1</th>\n",
       "      <th>team2</th>\n",
       "      <th>stage</th>\n",
       "      <th>toss_winner</th>\n",
       "      <th>toss_decision</th>\n",
       "      <th>first_ings_score</th>\n",
       "      <th>first_ings_wkts</th>\n",
       "      <th>second_ings_score</th>\n",
       "      <th>second_ings_wkts</th>\n",
       "      <th>match_winner</th>\n",
       "      <th>won_by</th>\n",
       "      <th>margin</th>\n",
       "      <th>player_of_the_match</th>\n",
       "      <th>top_scorer</th>\n",
       "      <th>highscore</th>\n",
       "      <th>best_bowling</th>\n",
       "      <th>best_bowling_figure</th>\n",
       "    </tr>\n",
       "  </thead>\n",
       "  <tbody>\n",
       "    <tr>\n",
       "      <th>0</th>\n",
       "      <td>1</td>\n",
       "      <td>March 26,2022</td>\n",
       "      <td>Wankhede Stadium, Mumbai</td>\n",
       "      <td>Chennai</td>\n",
       "      <td>Kolkata</td>\n",
       "      <td>Group</td>\n",
       "      <td>Kolkata</td>\n",
       "      <td>Field</td>\n",
       "      <td>131</td>\n",
       "      <td>5</td>\n",
       "      <td>133</td>\n",
       "      <td>4</td>\n",
       "      <td>Kolkata</td>\n",
       "      <td>Wickets</td>\n",
       "      <td>6</td>\n",
       "      <td>Umesh Yadav</td>\n",
       "      <td>MS Dhoni</td>\n",
       "      <td>50</td>\n",
       "      <td>Dwayne Bravo</td>\n",
       "      <td>3--20</td>\n",
       "    </tr>\n",
       "    <tr>\n",
       "      <th>1</th>\n",
       "      <td>2</td>\n",
       "      <td>March 27,2022</td>\n",
       "      <td>Brabourne Stadium, Mumbai</td>\n",
       "      <td>Delhi</td>\n",
       "      <td>Mumbai</td>\n",
       "      <td>Group</td>\n",
       "      <td>Delhi</td>\n",
       "      <td>Field</td>\n",
       "      <td>177</td>\n",
       "      <td>5</td>\n",
       "      <td>179</td>\n",
       "      <td>6</td>\n",
       "      <td>Delhi</td>\n",
       "      <td>Wickets</td>\n",
       "      <td>4</td>\n",
       "      <td>Kuldeep Yadav</td>\n",
       "      <td>Ishan Kishan</td>\n",
       "      <td>81</td>\n",
       "      <td>Kuldeep Yadav</td>\n",
       "      <td>3--18</td>\n",
       "    </tr>\n",
       "    <tr>\n",
       "      <th>2</th>\n",
       "      <td>3</td>\n",
       "      <td>March 27,2022</td>\n",
       "      <td>Dr DY Patil Sports Academy, Mumbai</td>\n",
       "      <td>Banglore</td>\n",
       "      <td>Punjab</td>\n",
       "      <td>Group</td>\n",
       "      <td>Punjab</td>\n",
       "      <td>Field</td>\n",
       "      <td>205</td>\n",
       "      <td>2</td>\n",
       "      <td>208</td>\n",
       "      <td>5</td>\n",
       "      <td>Punjab</td>\n",
       "      <td>Wickets</td>\n",
       "      <td>5</td>\n",
       "      <td>Odean Smith</td>\n",
       "      <td>Faf du Plessis</td>\n",
       "      <td>88</td>\n",
       "      <td>Mohammed Siraj</td>\n",
       "      <td>2--59</td>\n",
       "    </tr>\n",
       "  </tbody>\n",
       "</table>\n",
       "</div>"
      ],
      "text/plain": [
       "   match_id           date                               venue     team1  \\\n",
       "0         1  March 26,2022            Wankhede Stadium, Mumbai   Chennai   \n",
       "1         2  March 27,2022           Brabourne Stadium, Mumbai     Delhi   \n",
       "2         3  March 27,2022  Dr DY Patil Sports Academy, Mumbai  Banglore   \n",
       "\n",
       "     team2  stage toss_winner toss_decision  first_ings_score  \\\n",
       "0  Kolkata  Group     Kolkata         Field               131   \n",
       "1   Mumbai  Group       Delhi         Field               177   \n",
       "2   Punjab  Group      Punjab         Field               205   \n",
       "\n",
       "   first_ings_wkts  second_ings_score  second_ings_wkts match_winner   won_by  \\\n",
       "0                5                133                 4      Kolkata  Wickets   \n",
       "1                5                179                 6        Delhi  Wickets   \n",
       "2                2                208                 5       Punjab  Wickets   \n",
       "\n",
       "   margin player_of_the_match      top_scorer  highscore    best_bowling  \\\n",
       "0       6         Umesh Yadav        MS Dhoni         50    Dwayne Bravo   \n",
       "1       4       Kuldeep Yadav    Ishan Kishan         81   Kuldeep Yadav   \n",
       "2       5         Odean Smith  Faf du Plessis         88  Mohammed Siraj   \n",
       "\n",
       "  best_bowling_figure  \n",
       "0               3--20  \n",
       "1               3--18  \n",
       "2               2--59  "
      ]
     },
     "execution_count": 9,
     "metadata": {},
     "output_type": "execute_result"
    }
   ],
   "source": [
    "df.head(3)"
   ]
  },
  {
   "cell_type": "code",
   "execution_count": 10,
   "id": "1f95b051-88f8-4133-8794-9671ed47057b",
   "metadata": {},
   "outputs": [
    {
     "data": {
      "text/plain": [
       "48.65"
      ]
     },
     "execution_count": 10,
     "metadata": {},
     "output_type": "execute_result"
    }
   ],
   "source": [
    "# Count matches where toss winner = match winner\n",
    "same_winner_count = (df['toss_winner'] == df['match_winner']).sum()\n",
    "\n",
    "# Calculate percentage\n",
    "percentage = (same_winner_count / len(df)) * 100\n",
    "percentage = round(percentage, 2)\n",
    "\n",
    "percentage"
   ]
  },
  {
   "cell_type": "markdown",
   "id": "bf63d31e-dcbe-4908-9499-b74d2c9338e7",
   "metadata": {},
   "source": [
    "4. How do teams win? (Runs vs Wickets)"
   ]
  },
  {
   "cell_type": "code",
   "execution_count": 11,
   "id": "ac612bce",
   "metadata": {},
   "outputs": [
    {
     "data": {
      "application/vnd.microsoft.datawrangler.viewer.v0+json": {
       "columns": [
        {
         "name": "index",
         "rawType": "int64",
         "type": "integer"
        },
        {
         "name": "match_id",
         "rawType": "int64",
         "type": "integer"
        },
        {
         "name": "date",
         "rawType": "object",
         "type": "string"
        },
        {
         "name": "venue",
         "rawType": "object",
         "type": "string"
        },
        {
         "name": "team1",
         "rawType": "object",
         "type": "string"
        },
        {
         "name": "team2",
         "rawType": "object",
         "type": "string"
        },
        {
         "name": "stage",
         "rawType": "object",
         "type": "string"
        },
        {
         "name": "toss_winner",
         "rawType": "object",
         "type": "string"
        },
        {
         "name": "toss_decision",
         "rawType": "object",
         "type": "string"
        },
        {
         "name": "first_ings_score",
         "rawType": "int64",
         "type": "integer"
        },
        {
         "name": "first_ings_wkts",
         "rawType": "int64",
         "type": "integer"
        },
        {
         "name": "second_ings_score",
         "rawType": "int64",
         "type": "integer"
        },
        {
         "name": "second_ings_wkts",
         "rawType": "int64",
         "type": "integer"
        },
        {
         "name": "match_winner",
         "rawType": "object",
         "type": "string"
        },
        {
         "name": "won_by",
         "rawType": "object",
         "type": "string"
        },
        {
         "name": "margin",
         "rawType": "int64",
         "type": "integer"
        },
        {
         "name": "player_of_the_match",
         "rawType": "object",
         "type": "string"
        },
        {
         "name": "top_scorer",
         "rawType": "object",
         "type": "string"
        },
        {
         "name": "highscore",
         "rawType": "int64",
         "type": "integer"
        },
        {
         "name": "best_bowling",
         "rawType": "object",
         "type": "string"
        },
        {
         "name": "best_bowling_figure",
         "rawType": "object",
         "type": "string"
        }
       ],
       "ref": "5727e744-8ec4-43b0-bc83-91c41ae464ba",
       "rows": [
        [
         "0",
         "1",
         "March 26,2022",
         "Wankhede Stadium, Mumbai",
         "Chennai",
         "Kolkata",
         "Group",
         "Kolkata",
         "Field",
         "131",
         "5",
         "133",
         "4",
         "Kolkata",
         "Wickets",
         "6",
         "Umesh Yadav",
         "MS Dhoni",
         "50",
         "Dwayne Bravo",
         "3--20"
        ],
        [
         "1",
         "2",
         "March 27,2022",
         "Brabourne Stadium, Mumbai",
         "Delhi",
         "Mumbai",
         "Group",
         "Delhi",
         "Field",
         "177",
         "5",
         "179",
         "6",
         "Delhi",
         "Wickets",
         "4",
         "Kuldeep Yadav",
         "Ishan Kishan",
         "81",
         "Kuldeep Yadav",
         "3--18"
        ],
        [
         "2",
         "3",
         "March 27,2022",
         "Dr DY Patil Sports Academy, Mumbai",
         "Banglore",
         "Punjab",
         "Group",
         "Punjab",
         "Field",
         "205",
         "2",
         "208",
         "5",
         "Punjab",
         "Wickets",
         "5",
         "Odean Smith",
         "Faf du Plessis",
         "88",
         "Mohammed Siraj",
         "2--59"
        ]
       ],
       "shape": {
        "columns": 20,
        "rows": 3
       }
      },
      "text/html": [
       "<div>\n",
       "<style scoped>\n",
       "    .dataframe tbody tr th:only-of-type {\n",
       "        vertical-align: middle;\n",
       "    }\n",
       "\n",
       "    .dataframe tbody tr th {\n",
       "        vertical-align: top;\n",
       "    }\n",
       "\n",
       "    .dataframe thead th {\n",
       "        text-align: right;\n",
       "    }\n",
       "</style>\n",
       "<table border=\"1\" class=\"dataframe\">\n",
       "  <thead>\n",
       "    <tr style=\"text-align: right;\">\n",
       "      <th></th>\n",
       "      <th>match_id</th>\n",
       "      <th>date</th>\n",
       "      <th>venue</th>\n",
       "      <th>team1</th>\n",
       "      <th>team2</th>\n",
       "      <th>stage</th>\n",
       "      <th>toss_winner</th>\n",
       "      <th>toss_decision</th>\n",
       "      <th>first_ings_score</th>\n",
       "      <th>first_ings_wkts</th>\n",
       "      <th>second_ings_score</th>\n",
       "      <th>second_ings_wkts</th>\n",
       "      <th>match_winner</th>\n",
       "      <th>won_by</th>\n",
       "      <th>margin</th>\n",
       "      <th>player_of_the_match</th>\n",
       "      <th>top_scorer</th>\n",
       "      <th>highscore</th>\n",
       "      <th>best_bowling</th>\n",
       "      <th>best_bowling_figure</th>\n",
       "    </tr>\n",
       "  </thead>\n",
       "  <tbody>\n",
       "    <tr>\n",
       "      <th>0</th>\n",
       "      <td>1</td>\n",
       "      <td>March 26,2022</td>\n",
       "      <td>Wankhede Stadium, Mumbai</td>\n",
       "      <td>Chennai</td>\n",
       "      <td>Kolkata</td>\n",
       "      <td>Group</td>\n",
       "      <td>Kolkata</td>\n",
       "      <td>Field</td>\n",
       "      <td>131</td>\n",
       "      <td>5</td>\n",
       "      <td>133</td>\n",
       "      <td>4</td>\n",
       "      <td>Kolkata</td>\n",
       "      <td>Wickets</td>\n",
       "      <td>6</td>\n",
       "      <td>Umesh Yadav</td>\n",
       "      <td>MS Dhoni</td>\n",
       "      <td>50</td>\n",
       "      <td>Dwayne Bravo</td>\n",
       "      <td>3--20</td>\n",
       "    </tr>\n",
       "    <tr>\n",
       "      <th>1</th>\n",
       "      <td>2</td>\n",
       "      <td>March 27,2022</td>\n",
       "      <td>Brabourne Stadium, Mumbai</td>\n",
       "      <td>Delhi</td>\n",
       "      <td>Mumbai</td>\n",
       "      <td>Group</td>\n",
       "      <td>Delhi</td>\n",
       "      <td>Field</td>\n",
       "      <td>177</td>\n",
       "      <td>5</td>\n",
       "      <td>179</td>\n",
       "      <td>6</td>\n",
       "      <td>Delhi</td>\n",
       "      <td>Wickets</td>\n",
       "      <td>4</td>\n",
       "      <td>Kuldeep Yadav</td>\n",
       "      <td>Ishan Kishan</td>\n",
       "      <td>81</td>\n",
       "      <td>Kuldeep Yadav</td>\n",
       "      <td>3--18</td>\n",
       "    </tr>\n",
       "    <tr>\n",
       "      <th>2</th>\n",
       "      <td>3</td>\n",
       "      <td>March 27,2022</td>\n",
       "      <td>Dr DY Patil Sports Academy, Mumbai</td>\n",
       "      <td>Banglore</td>\n",
       "      <td>Punjab</td>\n",
       "      <td>Group</td>\n",
       "      <td>Punjab</td>\n",
       "      <td>Field</td>\n",
       "      <td>205</td>\n",
       "      <td>2</td>\n",
       "      <td>208</td>\n",
       "      <td>5</td>\n",
       "      <td>Punjab</td>\n",
       "      <td>Wickets</td>\n",
       "      <td>5</td>\n",
       "      <td>Odean Smith</td>\n",
       "      <td>Faf du Plessis</td>\n",
       "      <td>88</td>\n",
       "      <td>Mohammed Siraj</td>\n",
       "      <td>2--59</td>\n",
       "    </tr>\n",
       "  </tbody>\n",
       "</table>\n",
       "</div>"
      ],
      "text/plain": [
       "   match_id           date                               venue     team1  \\\n",
       "0         1  March 26,2022            Wankhede Stadium, Mumbai   Chennai   \n",
       "1         2  March 27,2022           Brabourne Stadium, Mumbai     Delhi   \n",
       "2         3  March 27,2022  Dr DY Patil Sports Academy, Mumbai  Banglore   \n",
       "\n",
       "     team2  stage toss_winner toss_decision  first_ings_score  \\\n",
       "0  Kolkata  Group     Kolkata         Field               131   \n",
       "1   Mumbai  Group       Delhi         Field               177   \n",
       "2   Punjab  Group      Punjab         Field               205   \n",
       "\n",
       "   first_ings_wkts  second_ings_score  second_ings_wkts match_winner   won_by  \\\n",
       "0                5                133                 4      Kolkata  Wickets   \n",
       "1                5                179                 6        Delhi  Wickets   \n",
       "2                2                208                 5       Punjab  Wickets   \n",
       "\n",
       "   margin player_of_the_match      top_scorer  highscore    best_bowling  \\\n",
       "0       6         Umesh Yadav        MS Dhoni         50    Dwayne Bravo   \n",
       "1       4       Kuldeep Yadav    Ishan Kishan         81   Kuldeep Yadav   \n",
       "2       5         Odean Smith  Faf du Plessis         88  Mohammed Siraj   \n",
       "\n",
       "  best_bowling_figure  \n",
       "0               3--20  \n",
       "1               3--18  \n",
       "2               2--59  "
      ]
     },
     "execution_count": 11,
     "metadata": {},
     "output_type": "execute_result"
    }
   ],
   "source": [
    "df.head(3)"
   ]
  },
  {
   "cell_type": "code",
   "execution_count": 12,
   "id": "1b06c596",
   "metadata": {},
   "outputs": [
    {
     "data": {
      "text/plain": [
       "array(['Wickets', 'Runs'], dtype=object)"
      ]
     },
     "execution_count": 12,
     "metadata": {},
     "output_type": "execute_result"
    }
   ],
   "source": [
    "df['won_by'].unique()"
   ]
  },
  {
   "cell_type": "code",
   "execution_count": 13,
   "id": "fe487b4f-4266-4ad1-89b7-d03a0efd9d21",
   "metadata": {},
   "outputs": [
    {
     "data": {
      "text/plain": [
       "Text(0.5, 1.0, 'Won by')"
      ]
     },
     "execution_count": 13,
     "metadata": {},
     "output_type": "execute_result"
    },
    {
     "data": {
      "image/png": "[encoded data removed]",
      "text/plain": [
       "<Figure size 640x480 with 1 Axes>"
      ]
     },
     "metadata": {},
     "output_type": "display_data"
    }
   ],
   "source": [
    "sns.countplot(x = df['won_by'])\n",
    "plt.title(\"Won by\")"
   ]
  },
  {
   "cell_type": "markdown",
   "id": "4a5635a5-a7b3-4527-8580-114462ec6b20",
   "metadata": {},
   "source": [
    "###  Key Player Performances"
   ]
  },
  {
   "cell_type": "markdown",
   "id": "03366105-9157-4d50-873c-ee79cb3b85b3",
   "metadata": {},
   "source": [
    "Top 10 Most \"Player of the Match\" Awards"
   ]
  },
  {
   "cell_type": "code",
   "execution_count": 35,
   "id": "8b45828c",
   "metadata": {},
   "outputs": [
    {
     "data": {
      "application/vnd.microsoft.datawrangler.viewer.v0+json": {
       "columns": [
        {
         "name": "player_of_the_match",
         "rawType": "object",
         "type": "string"
        },
        {
         "name": "count",
         "rawType": "int64",
         "type": "integer"
        }
       ],
       "ref": "7239492d-ad54-461c-8ef9-0e9515bd54f0",
       "rows": [
        [
         "Kuldeep Yadav",
         "4"
        ],
        [
         "Jos Buttler",
         "3"
        ],
        [
         "Umesh Yadav",
         "2"
        ],
        [
         "Quinton de Kock",
         "2"
        ],
        [
         "David Miller",
         "2"
        ],
        [
         "Umran Malik",
         "2"
        ],
        [
         "K L Rahul",
         "2"
        ],
        [
         "Rahul Tripathi",
         "2"
        ],
        [
         "Hardik Pandya",
         "2"
        ],
        [
         "Jasprit Bumrah",
         "2"
        ],
        [
         "Shubman Gill",
         "2"
        ],
        [
         "Yuzvendra Chahal",
         "2"
        ],
        [
         "Wanindu Hasaranga",
         "2"
        ],
        [
         "Avesh Khan",
         "2"
        ],
        [
         "Dinesh Karthik",
         "2"
        ],
        [
         "Virat Kohli",
         "1"
        ],
        [
         "Rinku Singh",
         "1"
        ],
        [
         "Kagiso Rabada",
         "1"
        ],
        [
         "Harshal Patel",
         "1"
        ],
        [
         "David Warner",
         "1"
        ],
        [
         "Harpreet Brar",
         "1"
        ],
        [
         "Tim David",
         "1"
        ],
        [
         "Yashasvi Jaiswal",
         "1"
        ],
        [
         "R Aswin",
         "1"
        ],
        [
         "Andre Russell",
         "1"
        ],
        [
         "Shardul Thakur",
         "1"
        ],
        [
         "Trent Boult",
         "1"
        ],
        [
         "Devon Conway",
         "1"
        ],
        [
         "W. Saha",
         "1"
        ],
        [
         "Mitchell Marsh",
         "1"
        ],
        [
         "Mohsin Khan",
         "1"
        ],
        [
         "Daniel Sams",
         "1"
        ],
        [
         "Jonny Bairstow",
         "1"
        ],
        [
         "Ruturaj Gaikwad",
         "1"
        ],
        [
         "Rashid Khan",
         "1"
        ],
        [
         "Suruakumar Yadav",
         "1"
        ],
        [
         "Anuj Rawat",
         "1"
        ],
        [
         "Odean Smith",
         "1"
        ],
        [
         "Mohammed Shami",
         "1"
        ],
        [
         "Sanju Samson",
         "1"
        ],
        [
         "Evin Lewis",
         "1"
        ],
        [
         "Lockie Ferguson",
         "1"
        ],
        [
         "Liam Livingstone",
         "1"
        ],
        [
         "Pat Cummins",
         "1"
        ],
        [
         "Abhishek Sharma",
         "1"
        ],
        [
         "Kane Williamson",
         "1"
        ],
        [
         "Rahul Tewatia",
         "1"
        ],
        [
         "Shivam Dube",
         "1"
        ],
        [
         "Mayank Agarwal",
         "1"
        ],
        [
         "Faf du Plessis",
         "1"
        ]
       ],
       "shape": {
        "columns": 1,
        "rows": 56
       }
      },
      "text/plain": [
       "player_of_the_match\n",
       "Kuldeep Yadav        4\n",
       "Jos Buttler          3\n",
       "Umesh Yadav          2\n",
       "Quinton de Kock      2\n",
       "David Miller         2\n",
       "Umran Malik          2\n",
       "K L Rahul            2\n",
       "Rahul Tripathi       2\n",
       "Hardik Pandya        2\n",
       "Jasprit Bumrah       2\n",
       "Shubman Gill         2\n",
       "Yuzvendra Chahal     2\n",
       "Wanindu Hasaranga    2\n",
       "Avesh Khan           2\n",
       "Dinesh Karthik       2\n",
       "Virat Kohli          1\n",
       "Rinku Singh          1\n",
       "Kagiso Rabada        1\n",
       "Harshal Patel        1\n",
       "David Warner         1\n",
       "Harpreet Brar        1\n",
       "Tim David            1\n",
       "Yashasvi Jaiswal     1\n",
       "R Aswin              1\n",
       "Andre Russell        1\n",
       "Shardul Thakur       1\n",
       "Trent Boult          1\n",
       "Devon Conway         1\n",
       "W. Saha              1\n",
       "Mitchell Marsh       1\n",
       "Mohsin Khan          1\n",
       "Daniel Sams          1\n",
       "Jonny Bairstow       1\n",
       "Ruturaj Gaikwad      1\n",
       "Rashid Khan          1\n",
       "Suruakumar Yadav     1\n",
       "Anuj Rawat           1\n",
       "Odean Smith          1\n",
       "Mohammed Shami       1\n",
       "Sanju Samson         1\n",
       "Evin Lewis           1\n",
       "Lockie Ferguson      1\n",
       "Liam Livingstone     1\n",
       "Pat Cummins          1\n",
       "Abhishek Sharma      1\n",
       "Kane Williamson      1\n",
       "Rahul Tewatia        1\n",
       "Shivam Dube          1\n",
       "Mayank Agarwal       1\n",
       "Faf du Plessis       1\n",
       "Mukesh Choudhary     1\n",
       "Marco Jansen         1\n",
       "Shikhar Dhawan       1\n",
       "Riyan Parag          1\n",
       "Krunal Pandya        1\n",
       "Rajat Patidar        1\n",
       "Name: count, dtype: int64"
      ]
     },
     "execution_count": 35,
     "metadata": {},
     "output_type": "execute_result"
    }
   ],
   "source": [
    "df['player_of_the_match'].value_counts()"
   ]
  },
  {
   "cell_type": "code",
   "execution_count": 15,
   "id": "034ad7ce-f010-4ab0-b490-5b1f90c11834",
   "metadata": {},
   "outputs": [
    {
     "data": {
      "application/vnd.microsoft.datawrangler.viewer.v0+json": {
       "columns": [
        {
         "name": "player_of_the_match",
         "rawType": "object",
         "type": "string"
        },
        {
         "name": "count",
         "rawType": "int64",
         "type": "integer"
        }
       ],
       "ref": "99d9f125-a419-474b-9691-28ae370a73d7",
       "rows": [
        [
         "Kuldeep Yadav",
         "4"
        ],
        [
         "Jos Buttler",
         "3"
        ],
        [
         "Umesh Yadav",
         "2"
        ],
        [
         "Quinton de Kock",
         "2"
        ],
        [
         "David Miller",
         "2"
        ],
        [
         "Umran Malik",
         "2"
        ],
        [
         "K L Rahul",
         "2"
        ],
        [
         "Rahul Tripathi",
         "2"
        ],
        [
         "Hardik Pandya",
         "2"
        ],
        [
         "Jasprit Bumrah",
         "2"
        ]
       ],
       "shape": {
        "columns": 1,
        "rows": 10
       }
      },
      "text/plain": [
       "player_of_the_match\n",
       "Kuldeep Yadav      4\n",
       "Jos Buttler        3\n",
       "Umesh Yadav        2\n",
       "Quinton de Kock    2\n",
       "David Miller       2\n",
       "Umran Malik        2\n",
       "K L Rahul          2\n",
       "Rahul Tripathi     2\n",
       "Hardik Pandya      2\n",
       "Jasprit Bumrah     2\n",
       "Name: count, dtype: int64"
      ]
     },
     "execution_count": 15,
     "metadata": {},
     "output_type": "execute_result"
    }
   ],
   "source": [
    "count = df['player_of_the_match'].value_counts().head(10)\n",
    "count"
   ]
  },
  {
   "cell_type": "code",
   "execution_count": 36,
   "id": "ce562d96-00c2-4fc7-91dc-f73a431029e8",
   "metadata": {},
   "outputs": [
    {
     "data": {
      "text/plain": [
       "Text(0.5, 1.0, 'Top 10 players with man of the match')"
      ]
     },
     "execution_count": 36,
     "metadata": {},
     "output_type": "execute_result"
    },
    {
     "data": {
      "image/png": "[encoded data removed]",
      "text/plain": [
       "<Figure size 640x480 with 1 Axes>"
      ]
     },
     "metadata": {},
     "output_type": "display_data"
    }
   ],
   "source": [
    "sns.barplot(x = count.values , y = count.index,palette='mako')\n",
    "plt.title(\"Top 10 players with man of the match\")"
   ]
  },
  {
   "cell_type": "markdown",
   "id": "6fb8509a-85ac-4193-9876-8a6902461f7b",
   "metadata": {},
   "source": [
    "5 Top Scorers"
   ]
  },
  {
   "cell_type": "code",
   "execution_count": 17,
   "id": "f6f9a798-c26c-46b6-9d98-4c4651c8232f",
   "metadata": {},
   "outputs": [
    {
     "data": {
      "application/vnd.microsoft.datawrangler.viewer.v0+json": {
       "columns": [
        {
         "name": "index",
         "rawType": "int64",
         "type": "integer"
        },
        {
         "name": "match_id",
         "rawType": "int64",
         "type": "integer"
        },
        {
         "name": "date",
         "rawType": "object",
         "type": "string"
        },
        {
         "name": "venue",
         "rawType": "object",
         "type": "string"
        },
        {
         "name": "team1",
         "rawType": "object",
         "type": "string"
        },
        {
         "name": "team2",
         "rawType": "object",
         "type": "string"
        },
        {
         "name": "stage",
         "rawType": "object",
         "type": "string"
        },
        {
         "name": "toss_winner",
         "rawType": "object",
         "type": "string"
        },
        {
         "name": "toss_decision",
         "rawType": "object",
         "type": "string"
        },
        {
         "name": "first_ings_score",
         "rawType": "int64",
         "type": "integer"
        },
        {
         "name": "first_ings_wkts",
         "rawType": "int64",
         "type": "integer"
        },
        {
         "name": "second_ings_score",
         "rawType": "int64",
         "type": "integer"
        },
        {
         "name": "second_ings_wkts",
         "rawType": "int64",
         "type": "integer"
        },
        {
         "name": "match_winner",
         "rawType": "object",
         "type": "string"
        },
        {
         "name": "won_by",
         "rawType": "object",
         "type": "string"
        },
        {
         "name": "margin",
         "rawType": "int64",
         "type": "integer"
        },
        {
         "name": "player_of_the_match",
         "rawType": "object",
         "type": "string"
        },
        {
         "name": "top_scorer",
         "rawType": "object",
         "type": "string"
        },
        {
         "name": "highscore",
         "rawType": "int64",
         "type": "integer"
        },
        {
         "name": "best_bowling",
         "rawType": "object",
         "type": "string"
        },
        {
         "name": "best_bowling_figure",
         "rawType": "object",
         "type": "string"
        }
       ],
       "ref": "49698472-4cd9-4da2-8ac9-274c782e9f77",
       "rows": [
        [
         "0",
         "1",
         "March 26,2022",
         "Wankhede Stadium, Mumbai",
         "Chennai",
         "Kolkata",
         "Group",
         "Kolkata",
         "Field",
         "131",
         "5",
         "133",
         "4",
         "Kolkata",
         "Wickets",
         "6",
         "Umesh Yadav",
         "MS Dhoni",
         "50",
         "Dwayne Bravo",
         "3--20"
        ],
        [
         "1",
         "2",
         "March 27,2022",
         "Brabourne Stadium, Mumbai",
         "Delhi",
         "Mumbai",
         "Group",
         "Delhi",
         "Field",
         "177",
         "5",
         "179",
         "6",
         "Delhi",
         "Wickets",
         "4",
         "Kuldeep Yadav",
         "Ishan Kishan",
         "81",
         "Kuldeep Yadav",
         "3--18"
        ],
        [
         "2",
         "3",
         "March 27,2022",
         "Dr DY Patil Sports Academy, Mumbai",
         "Banglore",
         "Punjab",
         "Group",
         "Punjab",
         "Field",
         "205",
         "2",
         "208",
         "5",
         "Punjab",
         "Wickets",
         "5",
         "Odean Smith",
         "Faf du Plessis",
         "88",
         "Mohammed Siraj",
         "2--59"
        ]
       ],
       "shape": {
        "columns": 20,
        "rows": 3
       }
      },
      "text/html": [
       "<div>\n",
       "<style scoped>\n",
       "    .dataframe tbody tr th:only-of-type {\n",
       "        vertical-align: middle;\n",
       "    }\n",
       "\n",
       "    .dataframe tbody tr th {\n",
       "        vertical-align: top;\n",
       "    }\n",
       "\n",
       "    .dataframe thead th {\n",
       "        text-align: right;\n",
       "    }\n",
       "</style>\n",
       "<table border=\"1\" class=\"dataframe\">\n",
       "  <thead>\n",
       "    <tr style=\"text-align: right;\">\n",
       "      <th></th>\n",
       "      <th>match_id</th>\n",
       "      <th>date</th>\n",
       "      <th>venue</th>\n",
       "      <th>team1</th>\n",
       "      <th>team2</th>\n",
       "      <th>stage</th>\n",
       "      <th>toss_winner</th>\n",
       "      <th>toss_decision</th>\n",
       "      <th>first_ings_score</th>\n",
       "      <th>first_ings_wkts</th>\n",
       "      <th>second_ings_score</th>\n",
       "      <th>second_ings_wkts</th>\n",
       "      <th>match_winner</th>\n",
       "      <th>won_by</th>\n",
       "      <th>margin</th>\n",
       "      <th>player_of_the_match</th>\n",
       "      <th>top_scorer</th>\n",
       "      <th>highscore</th>\n",
       "      <th>best_bowling</th>\n",
       "      <th>best_bowling_figure</th>\n",
       "    </tr>\n",
       "  </thead>\n",
       "  <tbody>\n",
       "    <tr>\n",
       "      <th>0</th>\n",
       "      <td>1</td>\n",
       "      <td>March 26,2022</td>\n",
       "      <td>Wankhede Stadium, Mumbai</td>\n",
       "      <td>Chennai</td>\n",
       "      <td>Kolkata</td>\n",
       "      <td>Group</td>\n",
       "      <td>Kolkata</td>\n",
       "      <td>Field</td>\n",
       "      <td>131</td>\n",
       "      <td>5</td>\n",
       "      <td>133</td>\n",
       "      <td>4</td>\n",
       "      <td>Kolkata</td>\n",
       "      <td>Wickets</td>\n",
       "      <td>6</td>\n",
       "      <td>Umesh Yadav</td>\n",
       "      <td>MS Dhoni</td>\n",
       "      <td>50</td>\n",
       "      <td>Dwayne Bravo</td>\n",
       "      <td>3--20</td>\n",
       "    </tr>\n",
       "    <tr>\n",
       "      <th>1</th>\n",
       "      <td>2</td>\n",
       "      <td>March 27,2022</td>\n",
       "      <td>Brabourne Stadium, Mumbai</td>\n",
       "      <td>Delhi</td>\n",
       "      <td>Mumbai</td>\n",
       "      <td>Group</td>\n",
       "      <td>Delhi</td>\n",
       "      <td>Field</td>\n",
       "      <td>177</td>\n",
       "      <td>5</td>\n",
       "      <td>179</td>\n",
       "      <td>6</td>\n",
       "      <td>Delhi</td>\n",
       "      <td>Wickets</td>\n",
       "      <td>4</td>\n",
       "      <td>Kuldeep Yadav</td>\n",
       "      <td>Ishan Kishan</td>\n",
       "      <td>81</td>\n",
       "      <td>Kuldeep Yadav</td>\n",
       "      <td>3--18</td>\n",
       "    </tr>\n",
       "    <tr>\n",
       "      <th>2</th>\n",
       "      <td>3</td>\n",
       "      <td>March 27,2022</td>\n",
       "      <td>Dr DY Patil Sports Academy, Mumbai</td>\n",
       "      <td>Banglore</td>\n",
       "      <td>Punjab</td>\n",
       "      <td>Group</td>\n",
       "      <td>Punjab</td>\n",
       "      <td>Field</td>\n",
       "      <td>205</td>\n",
       "      <td>2</td>\n",
       "      <td>208</td>\n",
       "      <td>5</td>\n",
       "      <td>Punjab</td>\n",
       "      <td>Wickets</td>\n",
       "      <td>5</td>\n",
       "      <td>Odean Smith</td>\n",
       "      <td>Faf du Plessis</td>\n",
       "      <td>88</td>\n",
       "      <td>Mohammed Siraj</td>\n",
       "      <td>2--59</td>\n",
       "    </tr>\n",
       "  </tbody>\n",
       "</table>\n",
       "</div>"
      ],
      "text/plain": [
       "   match_id           date                               venue     team1  \\\n",
       "0         1  March 26,2022            Wankhede Stadium, Mumbai   Chennai   \n",
       "1         2  March 27,2022           Brabourne Stadium, Mumbai     Delhi   \n",
       "2         3  March 27,2022  Dr DY Patil Sports Academy, Mumbai  Banglore   \n",
       "\n",
       "     team2  stage toss_winner toss_decision  first_ings_score  \\\n",
       "0  Kolkata  Group     Kolkata         Field               131   \n",
       "1   Mumbai  Group       Delhi         Field               177   \n",
       "2   Punjab  Group      Punjab         Field               205   \n",
       "\n",
       "   first_ings_wkts  second_ings_score  second_ings_wkts match_winner   won_by  \\\n",
       "0                5                133                 4      Kolkata  Wickets   \n",
       "1                5                179                 6        Delhi  Wickets   \n",
       "2                2                208                 5       Punjab  Wickets   \n",
       "\n",
       "   margin player_of_the_match      top_scorer  highscore    best_bowling  \\\n",
       "0       6         Umesh Yadav        MS Dhoni         50    Dwayne Bravo   \n",
       "1       4       Kuldeep Yadav    Ishan Kishan         81   Kuldeep Yadav   \n",
       "2       5         Odean Smith  Faf du Plessis         88  Mohammed Siraj   \n",
       "\n",
       "  best_bowling_figure  \n",
       "0               3--20  \n",
       "1               3--18  \n",
       "2               2--59  "
      ]
     },
     "execution_count": 17,
     "metadata": {},
     "output_type": "execute_result"
    }
   ],
   "source": [
    "df.head(3)"
   ]
  },
  {
   "cell_type": "code",
   "execution_count": 18,
   "id": "6a5d2dd1",
   "metadata": {},
   "outputs": [
    {
     "data": {
      "application/vnd.microsoft.datawrangler.viewer.v0+json": {
       "columns": [
        {
         "name": "index",
         "rawType": "int64",
         "type": "integer"
        },
        {
         "name": "top_scorer",
         "rawType": "object",
         "type": "string"
        }
       ],
       "ref": "3c0588c8-5f7a-42ef-9c64-24e329d8cb20",
       "rows": [
        [
         "0",
         "MS Dhoni"
        ],
        [
         "1",
         "Ishan Kishan"
        ],
        [
         "2",
         "Faf du Plessis"
        ],
        [
         "3",
         "Deepak Hooda"
        ],
        [
         "4",
         "Aiden Markram"
        ],
        [
         "5",
         "Sherfane Rutherford"
        ],
        [
         "6",
         "Quinton de Kock"
        ],
        [
         "7",
         "Andre Russell"
        ],
        [
         "8",
         "Jos Buttler"
        ],
        [
         "9",
         "Shubman Gill"
        ],
        [
         "10",
         "Liam Livingstone"
        ],
        [
         "11",
         "KL Rahul"
        ],
        [
         "12",
         "Jos Buttler"
        ],
        [
         "13",
         "Pat Cummins"
        ],
        [
         "14",
         "Quinton de Kock"
        ],
        [
         "15",
         "Shubman Gill"
        ],
        [
         "16",
         "Abhishek Sharma"
        ],
        [
         "17",
         "Suryakumar Yadav"
        ],
        [
         "18",
         "David Warner"
        ],
        [
         "19",
         "Shimron Hetmyer"
        ],
        [
         "20",
         "Kane Williamson"
        ],
        [
         "21",
         "Shivam Dube"
        ],
        [
         "22",
         "Shikhar Dhawan"
        ],
        [
         "23",
         "Hardik Pandya"
        ],
        [
         "24",
         "Rahul Tripathi"
        ],
        [
         "25",
         "KL Rahul"
        ],
        [
         "26",
         "Dinesh Karthik"
        ],
        [
         "27",
         "Liam Livingstone"
        ],
        [
         "28",
         "David Miller"
        ],
        [
         "29",
         "Jos Buttler"
        ],
        [
         "30",
         "Faf du Plessis"
        ],
        [
         "31",
         "David Warner"
        ],
        [
         "32",
         "Tilak Varma"
        ],
        [
         "33",
         "Jos Buttler"
        ],
        [
         "34",
         "Hardik Pandya"
        ],
        [
         "35",
         "Abhishek Sharma"
        ],
        [
         "36",
         "KL Rahul"
        ],
        [
         "37",
         "Shikhar Dhawan"
        ],
        [
         "38",
         "Riyan Parag"
        ],
        [
         "39",
         "W. Saha"
        ],
        [
         "40",
         "Nitish Rana"
        ],
        [
         "41",
         "Quinton de Kock"
        ],
        [
         "42",
         "Virat Kohli"
        ],
        [
         "43",
         "Jos Buttler"
        ],
        [
         "44",
         "KL Rahul"
        ],
        [
         "45",
         "Ruturaj Gaikwad"
        ],
        [
         "46",
         "Sanju Samson"
        ],
        [
         "47",
         "Sai Sudharsan"
        ],
        [
         "48",
         "Devon Conway"
        ],
        [
         "49",
         "David Warner"
        ]
       ],
       "shape": {
        "columns": 1,
        "rows": 74
       }
      },
      "text/plain": [
       "0             MS Dhoni\n",
       "1         Ishan Kishan\n",
       "2       Faf du Plessis\n",
       "3         Deepak Hooda\n",
       "4        Aiden Markram\n",
       "            ...       \n",
       "69    Liam Livingstone\n",
       "70         Jos Buttler\n",
       "71       Rajat Patidar\n",
       "72         Jos Buttler\n",
       "73        Shubman Gill\n",
       "Name: top_scorer, Length: 74, dtype: object"
      ]
     },
     "execution_count": 18,
     "metadata": {},
     "output_type": "execute_result"
    }
   ],
   "source": [
    "df['top_scorer']"
   ]
  },
  {
   "cell_type": "code",
   "execution_count": 19,
   "id": "174937dd",
   "metadata": {},
   "outputs": [
    {
     "data": {
      "application/vnd.microsoft.datawrangler.viewer.v0+json": {
       "columns": [
        {
         "name": "top_scorer",
         "rawType": "object",
         "type": "string"
        },
        {
         "name": "count",
         "rawType": "int64",
         "type": "integer"
        }
       ],
       "ref": "7189887f-2ef9-4451-b5be-0790b7147670",
       "rows": [
        [
         "Jos Buttler",
         "7"
        ],
        [
         "Quinton de Kock",
         "5"
        ],
        [
         "Liam Livingstone",
         "4"
        ],
        [
         "Shubman Gill",
         "4"
        ],
        [
         "KL Rahul",
         "4"
        ],
        [
         "W. Saha",
         "3"
        ],
        [
         "Faf du Plessis",
         "3"
        ],
        [
         "Ishan Kishan",
         "3"
        ],
        [
         "David Warner",
         "3"
        ],
        [
         "Rahul Tripathi",
         "2"
        ],
        [
         "Devon Conway",
         "2"
        ],
        [
         "Abhishek Sharma",
         "2"
        ],
        [
         "MS Dhoni",
         "2"
        ],
        [
         "Hardik Pandya",
         "2"
        ],
        [
         "Andre Russell",
         "2"
        ],
        [
         "Mitchell Marsh",
         "2"
        ],
        [
         "Virat Kohli",
         "2"
        ],
        [
         "Deepak Hooda",
         "2"
        ],
        [
         "Shikhar Dhawan",
         "2"
        ],
        [
         "Ruturaj Gaikwad",
         "1"
        ],
        [
         "Yashasvi Jaiswal",
         "1"
        ],
        [
         "Sanju Samson",
         "1"
        ],
        [
         "Sai Sudharsan",
         "1"
        ],
        [
         "Moeen Ali",
         "1"
        ],
        [
         "Nitish Rana",
         "1"
        ],
        [
         "Shivam Dube",
         "1"
        ],
        [
         "Riyan Parag",
         "1"
        ],
        [
         "Tilak Varma",
         "1"
        ],
        [
         "David Miller",
         "1"
        ],
        [
         "Dinesh Karthik",
         "1"
        ],
        [
         "Kane Williamson",
         "1"
        ],
        [
         "Shimron Hetmyer",
         "1"
        ],
        [
         "Suryakumar Yadav",
         "1"
        ],
        [
         "Pat Cummins",
         "1"
        ],
        [
         "Sherfane Rutherford",
         "1"
        ],
        [
         "Aiden Markram",
         "1"
        ],
        [
         "Rajat Patidar",
         "1"
        ]
       ],
       "shape": {
        "columns": 1,
        "rows": 37
       }
      },
      "text/plain": [
       "top_scorer\n",
       "Jos Buttler            7\n",
       "Quinton de Kock        5\n",
       "Liam Livingstone       4\n",
       "Shubman Gill           4\n",
       "KL Rahul               4\n",
       "W. Saha                3\n",
       "Faf du Plessis         3\n",
       "Ishan Kishan           3\n",
       "David Warner           3\n",
       "Rahul Tripathi         2\n",
       "Devon Conway           2\n",
       "Abhishek Sharma        2\n",
       "MS Dhoni               2\n",
       "Hardik Pandya          2\n",
       "Andre Russell          2\n",
       "Mitchell Marsh         2\n",
       "Virat Kohli            2\n",
       "Deepak Hooda           2\n",
       "Shikhar Dhawan         2\n",
       "Ruturaj Gaikwad        1\n",
       "Yashasvi Jaiswal       1\n",
       "Sanju Samson           1\n",
       "Sai Sudharsan          1\n",
       "Moeen Ali              1\n",
       "Nitish Rana            1\n",
       "Shivam Dube            1\n",
       "Riyan Parag            1\n",
       "Tilak Varma            1\n",
       "David Miller           1\n",
       "Dinesh Karthik         1\n",
       "Kane Williamson        1\n",
       "Shimron Hetmyer        1\n",
       "Suryakumar Yadav       1\n",
       "Pat Cummins            1\n",
       "Sherfane Rutherford    1\n",
       "Aiden Markram          1\n",
       "Rajat Patidar          1\n",
       "Name: count, dtype: int64"
      ]
     },
     "execution_count": 19,
     "metadata": {},
     "output_type": "execute_result"
    }
   ],
   "source": [
    "df['top_scorer'].value_counts()"
   ]
  },
  {
   "cell_type": "code",
   "execution_count": 20,
   "id": "8a0ef222-ab5e-462a-ba65-f01f25ced131",
   "metadata": {},
   "outputs": [
    {
     "data": {
      "application/vnd.microsoft.datawrangler.viewer.v0+json": {
       "columns": [
        {
         "name": "top_scorer",
         "rawType": "object",
         "type": "string"
        },
        {
         "name": "highscore",
         "rawType": "int64",
         "type": "integer"
        }
       ],
       "ref": "a2b774ba-c5dd-482a-ba7c-dbd4ea09d4a6",
       "rows": [
        [
         "Jos Buttler",
         "651"
        ],
        [
         "Quinton de Kock",
         "377"
        ],
        [
         "KL Rahul",
         "351"
        ],
        [
         "Shubman Gill",
         "288"
        ],
        [
         "Faf du Plessis",
         "257"
        ]
       ],
       "shape": {
        "columns": 1,
        "rows": 5
       }
      },
      "text/plain": [
       "top_scorer\n",
       "Jos Buttler        651\n",
       "Quinton de Kock    377\n",
       "KL Rahul           351\n",
       "Shubman Gill       288\n",
       "Faf du Plessis     257\n",
       "Name: highscore, dtype: int64"
      ]
     },
     "execution_count": 20,
     "metadata": {},
     "output_type": "execute_result"
    }
   ],
   "source": [
    "high = df.groupby('top_scorer')['highscore'].sum().sort_values(ascending=False).head(5)\n",
    "high"
   ]
  },
  {
   "cell_type": "code",
   "execution_count": 38,
   "id": "50fc58de-b716-4f4d-aba1-82e9c486c427",
   "metadata": {},
   "outputs": [
    {
     "data": {
      "text/plain": [
       "<Axes: ylabel='top_scorer'>"
      ]
     },
     "execution_count": 38,
     "metadata": {},
     "output_type": "execute_result"
    },
    {
     "data": {
      "image/png": "[encoded data removed]",
      "text/plain": [
       "<Figure size 640x480 with 1 Axes>"
      ]
     },
     "metadata": {},
     "output_type": "display_data"
    }
   ],
   "source": [
    "high.plot(kind = 'barh', color = 'orange')"
   ]
  },
  {
   "cell_type": "markdown",
   "id": "7e267058-ce05-4bc6-9a7f-2265ab4f4f29",
   "metadata": {},
   "source": [
    "Top 10 Best Bowling Figures"
   ]
  },
  {
   "cell_type": "code",
   "execution_count": 22,
   "id": "556b4c9f-56f3-4496-b6c5-b274ab41c318",
   "metadata": {},
   "outputs": [
    {
     "data": {
      "application/vnd.microsoft.datawrangler.viewer.v0+json": {
       "columns": [
        {
         "name": "index",
         "rawType": "int64",
         "type": "integer"
        },
        {
         "name": "match_id",
         "rawType": "int64",
         "type": "integer"
        },
        {
         "name": "date",
         "rawType": "object",
         "type": "string"
        },
        {
         "name": "venue",
         "rawType": "object",
         "type": "string"
        },
        {
         "name": "team1",
         "rawType": "object",
         "type": "string"
        },
        {
         "name": "team2",
         "rawType": "object",
         "type": "string"
        },
        {
         "name": "stage",
         "rawType": "object",
         "type": "string"
        },
        {
         "name": "toss_winner",
         "rawType": "object",
         "type": "string"
        },
        {
         "name": "toss_decision",
         "rawType": "object",
         "type": "string"
        },
        {
         "name": "first_ings_score",
         "rawType": "int64",
         "type": "integer"
        },
        {
         "name": "first_ings_wkts",
         "rawType": "int64",
         "type": "integer"
        },
        {
         "name": "second_ings_score",
         "rawType": "int64",
         "type": "integer"
        },
        {
         "name": "second_ings_wkts",
         "rawType": "int64",
         "type": "integer"
        },
        {
         "name": "match_winner",
         "rawType": "object",
         "type": "string"
        },
        {
         "name": "won_by",
         "rawType": "object",
         "type": "string"
        },
        {
         "name": "margin",
         "rawType": "int64",
         "type": "integer"
        },
        {
         "name": "player_of_the_match",
         "rawType": "object",
         "type": "string"
        },
        {
         "name": "top_scorer",
         "rawType": "object",
         "type": "string"
        },
        {
         "name": "highscore",
         "rawType": "int64",
         "type": "integer"
        },
        {
         "name": "best_bowling",
         "rawType": "object",
         "type": "string"
        },
        {
         "name": "best_bowling_figure",
         "rawType": "object",
         "type": "string"
        }
       ],
       "ref": "24875193-1569-4eb4-9697-d961c91df547",
       "rows": [
        [
         "0",
         "1",
         "March 26,2022",
         "Wankhede Stadium, Mumbai",
         "Chennai",
         "Kolkata",
         "Group",
         "Kolkata",
         "Field",
         "131",
         "5",
         "133",
         "4",
         "Kolkata",
         "Wickets",
         "6",
         "Umesh Yadav",
         "MS Dhoni",
         "50",
         "Dwayne Bravo",
         "3--20"
        ],
        [
         "1",
         "2",
         "March 27,2022",
         "Brabourne Stadium, Mumbai",
         "Delhi",
         "Mumbai",
         "Group",
         "Delhi",
         "Field",
         "177",
         "5",
         "179",
         "6",
         "Delhi",
         "Wickets",
         "4",
         "Kuldeep Yadav",
         "Ishan Kishan",
         "81",
         "Kuldeep Yadav",
         "3--18"
        ],
        [
         "2",
         "3",
         "March 27,2022",
         "Dr DY Patil Sports Academy, Mumbai",
         "Banglore",
         "Punjab",
         "Group",
         "Punjab",
         "Field",
         "205",
         "2",
         "208",
         "5",
         "Punjab",
         "Wickets",
         "5",
         "Odean Smith",
         "Faf du Plessis",
         "88",
         "Mohammed Siraj",
         "2--59"
        ]
       ],
       "shape": {
        "columns": 20,
        "rows": 3
       }
      },
      "text/html": [
       "<div>\n",
       "<style scoped>\n",
       "    .dataframe tbody tr th:only-of-type {\n",
       "        vertical-align: middle;\n",
       "    }\n",
       "\n",
       "    .dataframe tbody tr th {\n",
       "        vertical-align: top;\n",
       "    }\n",
       "\n",
       "    .dataframe thead th {\n",
       "        text-align: right;\n",
       "    }\n",
       "</style>\n",
       "<table border=\"1\" class=\"dataframe\">\n",
       "  <thead>\n",
       "    <tr style=\"text-align: right;\">\n",
       "      <th></th>\n",
       "      <th>match_id</th>\n",
       "      <th>date</th>\n",
       "      <th>venue</th>\n",
       "      <th>team1</th>\n",
       "      <th>team2</th>\n",
       "      <th>stage</th>\n",
       "      <th>toss_winner</th>\n",
       "      <th>toss_decision</th>\n",
       "      <th>first_ings_score</th>\n",
       "      <th>first_ings_wkts</th>\n",
       "      <th>second_ings_score</th>\n",
       "      <th>second_ings_wkts</th>\n",
       "      <th>match_winner</th>\n",
       "      <th>won_by</th>\n",
       "      <th>margin</th>\n",
       "      <th>player_of_the_match</th>\n",
       "      <th>top_scorer</th>\n",
       "      <th>highscore</th>\n",
       "      <th>best_bowling</th>\n",
       "      <th>best_bowling_figure</th>\n",
       "    </tr>\n",
       "  </thead>\n",
       "  <tbody>\n",
       "    <tr>\n",
       "      <th>0</th>\n",
       "      <td>1</td>\n",
       "      <td>March 26,2022</td>\n",
       "      <td>Wankhede Stadium, Mumbai</td>\n",
       "      <td>Chennai</td>\n",
       "      <td>Kolkata</td>\n",
       "      <td>Group</td>\n",
       "      <td>Kolkata</td>\n",
       "      <td>Field</td>\n",
       "      <td>131</td>\n",
       "      <td>5</td>\n",
       "      <td>133</td>\n",
       "      <td>4</td>\n",
       "      <td>Kolkata</td>\n",
       "      <td>Wickets</td>\n",
       "      <td>6</td>\n",
       "      <td>Umesh Yadav</td>\n",
       "      <td>MS Dhoni</td>\n",
       "      <td>50</td>\n",
       "      <td>Dwayne Bravo</td>\n",
       "      <td>3--20</td>\n",
       "    </tr>\n",
       "    <tr>\n",
       "      <th>1</th>\n",
       "      <td>2</td>\n",
       "      <td>March 27,2022</td>\n",
       "      <td>Brabourne Stadium, Mumbai</td>\n",
       "      <td>Delhi</td>\n",
       "      <td>Mumbai</td>\n",
       "      <td>Group</td>\n",
       "      <td>Delhi</td>\n",
       "      <td>Field</td>\n",
       "      <td>177</td>\n",
       "      <td>5</td>\n",
       "      <td>179</td>\n",
       "      <td>6</td>\n",
       "      <td>Delhi</td>\n",
       "      <td>Wickets</td>\n",
       "      <td>4</td>\n",
       "      <td>Kuldeep Yadav</td>\n",
       "      <td>Ishan Kishan</td>\n",
       "      <td>81</td>\n",
       "      <td>Kuldeep Yadav</td>\n",
       "      <td>3--18</td>\n",
       "    </tr>\n",
       "    <tr>\n",
       "      <th>2</th>\n",
       "      <td>3</td>\n",
       "      <td>March 27,2022</td>\n",
       "      <td>Dr DY Patil Sports Academy, Mumbai</td>\n",
       "      <td>Banglore</td>\n",
       "      <td>Punjab</td>\n",
       "      <td>Group</td>\n",
       "      <td>Punjab</td>\n",
       "      <td>Field</td>\n",
       "      <td>205</td>\n",
       "      <td>2</td>\n",
       "      <td>208</td>\n",
       "      <td>5</td>\n",
       "      <td>Punjab</td>\n",
       "      <td>Wickets</td>\n",
       "      <td>5</td>\n",
       "      <td>Odean Smith</td>\n",
       "      <td>Faf du Plessis</td>\n",
       "      <td>88</td>\n",
       "      <td>Mohammed Siraj</td>\n",
       "      <td>2--59</td>\n",
       "    </tr>\n",
       "  </tbody>\n",
       "</table>\n",
       "</div>"
      ],
      "text/plain": [
       "   match_id           date                               venue     team1  \\\n",
       "0         1  March 26,2022            Wankhede Stadium, Mumbai   Chennai   \n",
       "1         2  March 27,2022           Brabourne Stadium, Mumbai     Delhi   \n",
       "2         3  March 27,2022  Dr DY Patil Sports Academy, Mumbai  Banglore   \n",
       "\n",
       "     team2  stage toss_winner toss_decision  first_ings_score  \\\n",
       "0  Kolkata  Group     Kolkata         Field               131   \n",
       "1   Mumbai  Group       Delhi         Field               177   \n",
       "2   Punjab  Group      Punjab         Field               205   \n",
       "\n",
       "   first_ings_wkts  second_ings_score  second_ings_wkts match_winner   won_by  \\\n",
       "0                5                133                 4      Kolkata  Wickets   \n",
       "1                5                179                 6        Delhi  Wickets   \n",
       "2                2                208                 5       Punjab  Wickets   \n",
       "\n",
       "   margin player_of_the_match      top_scorer  highscore    best_bowling  \\\n",
       "0       6         Umesh Yadav        MS Dhoni         50    Dwayne Bravo   \n",
       "1       4       Kuldeep Yadav    Ishan Kishan         81   Kuldeep Yadav   \n",
       "2       5         Odean Smith  Faf du Plessis         88  Mohammed Siraj   \n",
       "\n",
       "  best_bowling_figure  \n",
       "0               3--20  \n",
       "1               3--18  \n",
       "2               2--59  "
      ]
     },
     "execution_count": 22,
     "metadata": {},
     "output_type": "execute_result"
    }
   ],
   "source": [
    "df.head(3)"
   ]
  },
  {
   "cell_type": "code",
   "execution_count": 39,
   "id": "54d946e7",
   "metadata": {},
   "outputs": [],
   "source": [
    "df['highest_wickets'] = df['best_bowling_figure'].apply(lambda x: x.split('--')[0])\n",
    "df['highest_wickets'] = df['highest_wickets'].astype(int)"
   ]
  },
  {
   "cell_type": "code",
   "execution_count": 40,
   "id": "f259f1ba",
   "metadata": {},
   "outputs": [
    {
     "data": {
      "application/vnd.microsoft.datawrangler.viewer.v0+json": {
       "columns": [
        {
         "name": "index",
         "rawType": "int64",
         "type": "integer"
        },
        {
         "name": "match_id",
         "rawType": "int64",
         "type": "integer"
        },
        {
         "name": "date",
         "rawType": "object",
         "type": "string"
        },
        {
         "name": "venue",
         "rawType": "object",
         "type": "string"
        },
        {
         "name": "team1",
         "rawType": "object",
         "type": "string"
        },
        {
         "name": "team2",
         "rawType": "object",
         "type": "string"
        },
        {
         "name": "stage",
         "rawType": "object",
         "type": "string"
        },
        {
         "name": "toss_winner",
         "rawType": "object",
         "type": "string"
        },
        {
         "name": "toss_decision",
         "rawType": "object",
         "type": "string"
        },
        {
         "name": "first_ings_score",
         "rawType": "int64",
         "type": "integer"
        },
        {
         "name": "first_ings_wkts",
         "rawType": "int64",
         "type": "integer"
        },
        {
         "name": "second_ings_score",
         "rawType": "int64",
         "type": "integer"
        },
        {
         "name": "second_ings_wkts",
         "rawType": "int64",
         "type": "integer"
        },
        {
         "name": "match_winner",
         "rawType": "object",
         "type": "string"
        },
        {
         "name": "won_by",
         "rawType": "object",
         "type": "string"
        },
        {
         "name": "margin",
         "rawType": "int64",
         "type": "integer"
        },
        {
         "name": "player_of_the_match",
         "rawType": "object",
         "type": "string"
        },
        {
         "name": "top_scorer",
         "rawType": "object",
         "type": "string"
        },
        {
         "name": "highscore",
         "rawType": "int64",
         "type": "integer"
        },
        {
         "name": "best_bowling",
         "rawType": "object",
         "type": "string"
        },
        {
         "name": "best_bowling_figure",
         "rawType": "object",
         "type": "string"
        },
        {
         "name": "highest_wickets",
         "rawType": "int32",
         "type": "integer"
        }
       ],
       "ref": "f0d73e37-b08a-4943-aebe-5b0f81ab7d66",
       "rows": [
        [
         "0",
         "1",
         "March 26,2022",
         "Wankhede Stadium, Mumbai",
         "Chennai",
         "Kolkata",
         "Group",
         "Kolkata",
         "Field",
         "131",
         "5",
         "133",
         "4",
         "Kolkata",
         "Wickets",
         "6",
         "Umesh Yadav",
         "MS Dhoni",
         "50",
         "Dwayne Bravo",
         "3--20",
         "3"
        ],
        [
         "1",
         "2",
         "March 27,2022",
         "Brabourne Stadium, Mumbai",
         "Delhi",
         "Mumbai",
         "Group",
         "Delhi",
         "Field",
         "177",
         "5",
         "179",
         "6",
         "Delhi",
         "Wickets",
         "4",
         "Kuldeep Yadav",
         "Ishan Kishan",
         "81",
         "Kuldeep Yadav",
         "3--18",
         "3"
        ],
        [
         "2",
         "3",
         "March 27,2022",
         "Dr DY Patil Sports Academy, Mumbai",
         "Banglore",
         "Punjab",
         "Group",
         "Punjab",
         "Field",
         "205",
         "2",
         "208",
         "5",
         "Punjab",
         "Wickets",
         "5",
         "Odean Smith",
         "Faf du Plessis",
         "88",
         "Mohammed Siraj",
         "2--59",
         "2"
        ]
       ],
       "shape": {
        "columns": 21,
        "rows": 3
       }
      },
      "text/html": [
       "<div>\n",
       "<style scoped>\n",
       "    .dataframe tbody tr th:only-of-type {\n",
       "        vertical-align: middle;\n",
       "    }\n",
       "\n",
       "    .dataframe tbody tr th {\n",
       "        vertical-align: top;\n",
       "    }\n",
       "\n",
       "    .dataframe thead th {\n",
       "        text-align: right;\n",
       "    }\n",
       "</style>\n",
       "<table border=\"1\" class=\"dataframe\">\n",
       "  <thead>\n",
       "    <tr style=\"text-align: right;\">\n",
       "      <th></th>\n",
       "      <th>match_id</th>\n",
       "      <th>date</th>\n",
       "      <th>venue</th>\n",
       "      <th>team1</th>\n",
       "      <th>team2</th>\n",
       "      <th>stage</th>\n",
       "      <th>toss_winner</th>\n",
       "      <th>toss_decision</th>\n",
       "      <th>first_ings_score</th>\n",
       "      <th>first_ings_wkts</th>\n",
       "      <th>...</th>\n",
       "      <th>second_ings_wkts</th>\n",
       "      <th>match_winner</th>\n",
       "      <th>won_by</th>\n",
       "      <th>margin</th>\n",
       "      <th>player_of_the_match</th>\n",
       "      <th>top_scorer</th>\n",
       "      <th>highscore</th>\n",
       "      <th>best_bowling</th>\n",
       "      <th>best_bowling_figure</th>\n",
       "      <th>highest_wickets</th>\n",
       "    </tr>\n",
       "  </thead>\n",
       "  <tbody>\n",
       "    <tr>\n",
       "      <th>0</th>\n",
       "      <td>1</td>\n",
       "      <td>March 26,2022</td>\n",
       "      <td>Wankhede Stadium, Mumbai</td>\n",
       "      <td>Chennai</td>\n",
       "      <td>Kolkata</td>\n",
       "      <td>Group</td>\n",
       "      <td>Kolkata</td>\n",
       "      <td>Field</td>\n",
       "      <td>131</td>\n",
       "      <td>5</td>\n",
       "      <td>...</td>\n",
       "      <td>4</td>\n",
       "      <td>Kolkata</td>\n",
       "      <td>Wickets</td>\n",
       "      <td>6</td>\n",
       "      <td>Umesh Yadav</td>\n",
       "      <td>MS Dhoni</td>\n",
       "      <td>50</td>\n",
       "      <td>Dwayne Bravo</td>\n",
       "      <td>3--20</td>\n",
       "      <td>3</td>\n",
       "    </tr>\n",
       "    <tr>\n",
       "      <th>1</th>\n",
       "      <td>2</td>\n",
       "      <td>March 27,2022</td>\n",
       "      <td>Brabourne Stadium, Mumbai</td>\n",
       "      <td>Delhi</td>\n",
       "      <td>Mumbai</td>\n",
       "      <td>Group</td>\n",
       "      <td>Delhi</td>\n",
       "      <td>Field</td>\n",
       "      <td>177</td>\n",
       "      <td>5</td>\n",
       "      <td>...</td>\n",
       "      <td>6</td>\n",
       "      <td>Delhi</td>\n",
       "      <td>Wickets</td>\n",
       "      <td>4</td>\n",
       "      <td>Kuldeep Yadav</td>\n",
       "      <td>Ishan Kishan</td>\n",
       "      <td>81</td>\n",
       "      <td>Kuldeep Yadav</td>\n",
       "      <td>3--18</td>\n",
       "      <td>3</td>\n",
       "    </tr>\n",
       "    <tr>\n",
       "      <th>2</th>\n",
       "      <td>3</td>\n",
       "      <td>March 27,2022</td>\n",
       "      <td>Dr DY Patil Sports Academy, Mumbai</td>\n",
       "      <td>Banglore</td>\n",
       "      <td>Punjab</td>\n",
       "      <td>Group</td>\n",
       "      <td>Punjab</td>\n",
       "      <td>Field</td>\n",
       "      <td>205</td>\n",
       "      <td>2</td>\n",
       "      <td>...</td>\n",
       "      <td>5</td>\n",
       "      <td>Punjab</td>\n",
       "      <td>Wickets</td>\n",
       "      <td>5</td>\n",
       "      <td>Odean Smith</td>\n",
       "      <td>Faf du Plessis</td>\n",
       "      <td>88</td>\n",
       "      <td>Mohammed Siraj</td>\n",
       "      <td>2--59</td>\n",
       "      <td>2</td>\n",
       "    </tr>\n",
       "  </tbody>\n",
       "</table>\n",
       "<p>3 rows × 21 columns</p>\n",
       "</div>"
      ],
      "text/plain": [
       "   match_id           date                               venue     team1  \\\n",
       "0         1  March 26,2022            Wankhede Stadium, Mumbai   Chennai   \n",
       "1         2  March 27,2022           Brabourne Stadium, Mumbai     Delhi   \n",
       "2         3  March 27,2022  Dr DY Patil Sports Academy, Mumbai  Banglore   \n",
       "\n",
       "     team2  stage toss_winner toss_decision  first_ings_score  \\\n",
       "0  Kolkata  Group     Kolkata         Field               131   \n",
       "1   Mumbai  Group       Delhi         Field               177   \n",
       "2   Punjab  Group      Punjab         Field               205   \n",
       "\n",
       "   first_ings_wkts  ...  second_ings_wkts  match_winner   won_by margin  \\\n",
       "0                5  ...                 4       Kolkata  Wickets      6   \n",
       "1                5  ...                 6         Delhi  Wickets      4   \n",
       "2                2  ...                 5        Punjab  Wickets      5   \n",
       "\n",
       "   player_of_the_match      top_scorer highscore    best_bowling  \\\n",
       "0          Umesh Yadav        MS Dhoni        50    Dwayne Bravo   \n",
       "1        Kuldeep Yadav    Ishan Kishan        81   Kuldeep Yadav   \n",
       "2          Odean Smith  Faf du Plessis        88  Mohammed Siraj   \n",
       "\n",
       "  best_bowling_figure highest_wickets  \n",
       "0               3--20               3  \n",
       "1               3--18               3  \n",
       "2               2--59               2  \n",
       "\n",
       "[3 rows x 21 columns]"
      ]
     },
     "execution_count": 40,
     "metadata": {},
     "output_type": "execute_result"
    }
   ],
   "source": [
    "df.head(3)"
   ]
  },
  {
   "cell_type": "code",
   "execution_count": 44,
   "id": "48f4903c",
   "metadata": {},
   "outputs": [
    {
     "data": {
      "text/plain": [
       "<Axes: ylabel='best_bowling'>"
      ]
     },
     "execution_count": 44,
     "metadata": {},
     "output_type": "execute_result"
    },
    {
     "data": {
      "image/png": "[encoded data removed]",
      "text/plain": [
       "<Figure size 640x480 with 1 Axes>"
      ]
     },
     "metadata": {},
     "output_type": "display_data"
    }
   ],
   "source": [
    "top_bowlers = df.groupby('best_bowling')['highest_wickets'].sum().sort_values(ascending=False).head(10)\n",
    "top_bowlers.plot(kind='barh', color='purple')"
   ]
  },
  {
   "cell_type": "markdown",
   "id": "f6084e57-0568-4849-8413-220cff2ff8e3",
   "metadata": {},
   "source": [
    "###  Venue Analysis"
   ]
  },
  {
   "cell_type": "markdown",
   "id": "6d4e26f1-2479-4456-bda2-2a639c382d2e",
   "metadata": {},
   "source": [
    "Most Matches Played by Venue"
   ]
  },
  {
   "cell_type": "code",
   "execution_count": 25,
   "id": "07a58ac4-d8ee-4917-a98a-33e85121c893",
   "metadata": {},
   "outputs": [
    {
     "data": {
      "application/vnd.microsoft.datawrangler.viewer.v0+json": {
       "columns": [
        {
         "name": "venue",
         "rawType": "object",
         "type": "string"
        },
        {
         "name": "count",
         "rawType": "int64",
         "type": "integer"
        }
       ],
       "ref": "48421230-fa6e-41f7-ac68-592b90738df2",
       "rows": [
        [
         "Wankhede Stadium, Mumbai",
         "21"
        ],
        [
         "Dr DY Patil Sports Academy, Mumbai",
         "20"
        ],
        [
         "Brabourne Stadium, Mumbai",
         "16"
        ],
        [
         "Maharashtra Cricket Association Stadium,Pune",
         "13"
        ],
        [
         "Eden Gardens, Kolkata",
         "2"
        ],
        [
         "Narendra Modi Stadium, Ahmedabad",
         "2"
        ]
       ],
       "shape": {
        "columns": 1,
        "rows": 6
       }
      },
      "text/plain": [
       "venue\n",
       "Wankhede Stadium, Mumbai                        21\n",
       "Dr DY Patil Sports Academy, Mumbai              20\n",
       "Brabourne Stadium, Mumbai                       16\n",
       "Maharashtra Cricket Association Stadium,Pune    13\n",
       "Eden Gardens, Kolkata                            2\n",
       "Narendra Modi Stadium, Ahmedabad                 2\n",
       "Name: count, dtype: int64"
      ]
     },
     "execution_count": 25,
     "metadata": {},
     "output_type": "execute_result"
    }
   ],
   "source": [
    "venue_count = df['venue'].value_counts()\n",
    "venue_count"
   ]
  },
  {
   "cell_type": "code",
   "execution_count": 46,
   "id": "f427aff8-a677-405e-9224-f9daf1c0044d",
   "metadata": {},
   "outputs": [
    {
     "data": {
      "text/plain": [
       "<Axes: ylabel='venue'>"
      ]
     },
     "execution_count": 46,
     "metadata": {},
     "output_type": "execute_result"
    },
    {
     "data": {
      "image/png": "[encoded data removed]",
      "text/plain": [
       "<Figure size 640x480 with 1 Axes>"
      ]
     },
     "metadata": {},
     "output_type": "display_data"
    }
   ],
   "source": [
    "sns.barplot(y = venue_count.index,x = venue_count.values,palette='rainbow')"
   ]
  },
  {
   "cell_type": "markdown",
   "id": "9bb61b7c-5810-4d9a-a475-aacd8d403721",
   "metadata": {},
   "source": [
    "### Custom Questions & Insights\n",
    "Q1.1: Who won the highest margin by runs?"
   ]
  },
  {
   "cell_type": "code",
   "execution_count": 47,
   "id": "c8a7b632",
   "metadata": {},
   "outputs": [
    {
     "data": {
      "application/vnd.microsoft.datawrangler.viewer.v0+json": {
       "columns": [
        {
         "name": "index",
         "rawType": "int64",
         "type": "integer"
        },
        {
         "name": "match_id",
         "rawType": "int64",
         "type": "integer"
        },
        {
         "name": "date",
         "rawType": "object",
         "type": "string"
        },
        {
         "name": "venue",
         "rawType": "object",
         "type": "string"
        },
        {
         "name": "team1",
         "rawType": "object",
         "type": "string"
        },
        {
         "name": "team2",
         "rawType": "object",
         "type": "string"
        },
        {
         "name": "stage",
         "rawType": "object",
         "type": "string"
        },
        {
         "name": "toss_winner",
         "rawType": "object",
         "type": "string"
        },
        {
         "name": "toss_decision",
         "rawType": "object",
         "type": "string"
        },
        {
         "name": "first_ings_score",
         "rawType": "int64",
         "type": "integer"
        },
        {
         "name": "first_ings_wkts",
         "rawType": "int64",
         "type": "integer"
        },
        {
         "name": "second_ings_score",
         "rawType": "int64",
         "type": "integer"
        },
        {
         "name": "second_ings_wkts",
         "rawType": "int64",
         "type": "integer"
        },
        {
         "name": "match_winner",
         "rawType": "object",
         "type": "string"
        },
        {
         "name": "won_by",
         "rawType": "object",
         "type": "string"
        },
        {
         "name": "margin",
         "rawType": "int64",
         "type": "integer"
        },
        {
         "name": "player_of_the_match",
         "rawType": "object",
         "type": "string"
        },
        {
         "name": "top_scorer",
         "rawType": "object",
         "type": "string"
        },
        {
         "name": "highscore",
         "rawType": "int64",
         "type": "integer"
        },
        {
         "name": "best_bowling",
         "rawType": "object",
         "type": "string"
        },
        {
         "name": "best_bowling_figure",
         "rawType": "object",
         "type": "string"
        },
        {
         "name": "highest_wickets",
         "rawType": "int32",
         "type": "integer"
        }
       ],
       "ref": "dd53b2bb-be13-40ae-a15c-ea566989feed",
       "rows": [
        [
         "0",
         "1",
         "March 26,2022",
         "Wankhede Stadium, Mumbai",
         "Chennai",
         "Kolkata",
         "Group",
         "Kolkata",
         "Field",
         "131",
         "5",
         "133",
         "4",
         "Kolkata",
         "Wickets",
         "6",
         "Umesh Yadav",
         "MS Dhoni",
         "50",
         "Dwayne Bravo",
         "3--20",
         "3"
        ],
        [
         "1",
         "2",
         "March 27,2022",
         "Brabourne Stadium, Mumbai",
         "Delhi",
         "Mumbai",
         "Group",
         "Delhi",
         "Field",
         "177",
         "5",
         "179",
         "6",
         "Delhi",
         "Wickets",
         "4",
         "Kuldeep Yadav",
         "Ishan Kishan",
         "81",
         "Kuldeep Yadav",
         "3--18",
         "3"
        ],
        [
         "2",
         "3",
         "March 27,2022",
         "Dr DY Patil Sports Academy, Mumbai",
         "Banglore",
         "Punjab",
         "Group",
         "Punjab",
         "Field",
         "205",
         "2",
         "208",
         "5",
         "Punjab",
         "Wickets",
         "5",
         "Odean Smith",
         "Faf du Plessis",
         "88",
         "Mohammed Siraj",
         "2--59",
         "2"
        ],
        [
         "3",
         "4",
         "March 28,2022",
         "Wankhede Stadium, Mumbai",
         "Gujarat",
         "Lucknow",
         "Group",
         "Gujarat",
         "Field",
         "158",
         "6",
         "161",
         "5",
         "Gujarat",
         "Wickets",
         "5",
         "Mohammed Shami",
         "Deepak Hooda",
         "55",
         "Mohammed Shami",
         "3--25",
         "3"
        ],
        [
         "4",
         "5",
         "March 29,2022",
         "Maharashtra Cricket Association Stadium,Pune",
         "Hyderabad",
         "Rajasthan",
         "Group",
         "Hyderabad",
         "Field",
         "210",
         "6",
         "149",
         "7",
         "Rajasthan",
         "Runs",
         "61",
         "Sanju Samson",
         "Aiden Markram",
         "57",
         "Yuzvendra Chahal",
         "3--22",
         "3"
        ],
        [
         "5",
         "6",
         "March 30,2022",
         "Dr DY Patil Sports Academy, Mumbai",
         "Banglore",
         "Kolkata",
         "Group",
         "Banglore",
         "Field",
         "128",
         "10",
         "132",
         "7",
         "Banglore",
         "Wickets",
         "3",
         "Wanindu Hasaranga",
         "Sherfane Rutherford",
         "28",
         "Wanindu Hasaranga",
         "4--20",
         "4"
        ],
        [
         "6",
         "7",
         "March 31,2022",
         "Brabourne Stadium, Mumbai",
         "Chennai",
         "Lucknow",
         "Group",
         "Lucknow",
         "Field",
         "210",
         "7",
         "211",
         "4",
         "Lucknow",
         "Wickets",
         "6",
         "Evin Lewis",
         "Quinton de Kock",
         "61",
         "Ravi Bishnoi",
         "2--24",
         "2"
        ],
        [
         "7",
         "8",
         "April 1,2022",
         "Wankhede Stadium, Mumbai",
         "Kolkata",
         "Punjab",
         "Group",
         "Kolkata",
         "Field",
         "137",
         "10",
         "141",
         "4",
         "Kolkata",
         "Wickets",
         "6",
         "Umesh Yadav",
         "Andre Russell",
         "70",
         "Umesh Yadav",
         "4--23",
         "4"
        ],
        [
         "8",
         "9",
         "April 2,2022",
         "Dr DY Patil Sports Academy, Mumbai",
         "Mumbai",
         "Rajasthan",
         "Group",
         "Mumbai",
         "Field",
         "193",
         "8",
         "170",
         "8",
         "Rajasthan",
         "Runs",
         "23",
         "Jos Buttler",
         "Jos Buttler",
         "100",
         "Jasprit Bumrah",
         "3--17",
         "3"
        ],
        [
         "9",
         "10",
         "April 2,2022",
         "Maharashtra Cricket Association Stadium,Pune",
         "Delhi",
         "Gujarat",
         "Group",
         "Delhi",
         "Field",
         "171",
         "6",
         "157",
         "9",
         "Gujarat",
         "Runs",
         "14",
         "Lockie Ferguson",
         "Shubman Gill",
         "84",
         "Lockie Ferguson",
         "4--28",
         "4"
        ],
        [
         "10",
         "11",
         "April 3,2022",
         "Brabourne Stadium, Mumbai",
         "Chennai",
         "Punjab",
         "Group",
         "Chennai",
         "Field",
         "180",
         "8",
         "126",
         "10",
         "Punjab",
         "Runs",
         "54",
         "Liam Livingstone",
         "Liam Livingstone",
         "60",
         "Rahul Chahar",
         "3--25",
         "3"
        ],
        [
         "11",
         "12",
         "April 4,2022",
         "Dr DY Patil Sports Academy, Mumbai",
         "Hyderabad",
         "Lucknow",
         "Group",
         "Hyderabad",
         "Field",
         "169",
         "7",
         "157",
         "9",
         "Lucknow",
         "Runs",
         "12",
         "Avesh Khan",
         "KL Rahul",
         "68",
         "Avesh Khan",
         "4--24",
         "4"
        ],
        [
         "12",
         "13",
         "April 5,2022",
         "Wankhede Stadium, Mumbai",
         "Banglore",
         "Rajasthan",
         "Group",
         "Banglore",
         "Field",
         "169",
         "3",
         "173",
         "6",
         "Banglore",
         "Wickets",
         "4",
         "Dinesh Karthik",
         "Jos Buttler",
         "70",
         "Yuzvendra Chahal",
         "2--15",
         "2"
        ],
        [
         "13",
         "14",
         "April 6,2022",
         "Maharashtra Cricket Association Stadium,Pune",
         "Kolkata",
         "Mumbai",
         "Group",
         "Kolkata",
         "Field",
         "161",
         "4",
         "162",
         "5",
         "Kolkata",
         "Wickets",
         "5",
         "Pat Cummins",
         "Pat Cummins",
         "56",
         "Murugan Ashwin",
         "2--25",
         "2"
        ],
        [
         "14",
         "15",
         "April 7,2022",
         "Dr DY Patil Sports Academy, Mumbai",
         "Delhi",
         "Lucknow",
         "Group",
         "Lucknow",
         "Field",
         "149",
         "3",
         "155",
         "4",
         "Lucknow",
         "Wickets",
         "6",
         "Quinton de Kock",
         "Quinton de Kock",
         "80",
         "Ravi Bishnoi",
         "2--22",
         "2"
        ],
        [
         "15",
         "16",
         "April 8,2022",
         "Brabourne Stadium, Mumbai",
         "Gujarat",
         "Punjab",
         "Group",
         "Gujarat",
         "Field",
         "189",
         "9",
         "190",
         "4",
         "Gujarat",
         "Wickets",
         "6",
         "Shubman Gill",
         "Shubman Gill",
         "96",
         "Rashid Khan",
         "3--22",
         "3"
        ],
        [
         "16",
         "17",
         "April 9,2022",
         "Dr DY Patil Sports Academy, Mumbai",
         "Chennai",
         "Hyderabad",
         "Group",
         "Hyderabad",
         "Field",
         "154",
         "7",
         "155",
         "2",
         "Hyderabad",
         "Wickets",
         "8",
         "Abhishek Sharma",
         "Abhishek Sharma",
         "75",
         "Washington Sundar",
         "2--21",
         "2"
        ],
        [
         "17",
         "18",
         "April 9,2022",
         "Maharashtra Cricket Association Stadium,Pune",
         "Banglore",
         "Mumbai",
         "Group",
         "Banglore",
         "Field",
         "151",
         "6",
         "152",
         "3",
         "Banglore",
         "Wickets",
         "7",
         "Anuj Rawat",
         "Suryakumar Yadav",
         "68",
         "Harshal Patel",
         "2--23",
         "2"
        ],
        [
         "18",
         "19",
         "April 10,2022",
         "Brabourne Stadium, Mumbai",
         "Delhi",
         "Kolkata",
         "Group",
         "Kolkata",
         "Field",
         "215",
         "5",
         "171",
         "10",
         "Delhi",
         "Runs",
         "44",
         "Kuldeep Yadav",
         "David Warner",
         "61",
         "Kuldeep Yadav",
         "4--35",
         "4"
        ],
        [
         "19",
         "20",
         "April 10,2022",
         "Wankhede Stadium, Mumbai",
         "Lucknow",
         "Rajasthan",
         "Group",
         "Lucknow",
         "Field",
         "165",
         "6",
         "162",
         "8",
         "Rajasthan",
         "Runs",
         "3",
         "Yuzvendra Chahal",
         "Shimron Hetmyer",
         "59",
         "Yuzvendra Chahal",
         "4--41",
         "4"
        ]
       ],
       "shape": {
        "columns": 21,
        "rows": 20
       }
      },
      "text/html": [
       "<div>\n",
       "<style scoped>\n",
       "    .dataframe tbody tr th:only-of-type {\n",
       "        vertical-align: middle;\n",
       "    }\n",
       "\n",
       "    .dataframe tbody tr th {\n",
       "        vertical-align: top;\n",
       "    }\n",
       "\n",
       "    .dataframe thead th {\n",
       "        text-align: right;\n",
       "    }\n",
       "</style>\n",
       "<table border=\"1\" class=\"dataframe\">\n",
       "  <thead>\n",
       "    <tr style=\"text-align: right;\">\n",
       "      <th></th>\n",
       "      <th>match_id</th>\n",
       "      <th>date</th>\n",
       "      <th>venue</th>\n",
       "      <th>team1</th>\n",
       "      <th>team2</th>\n",
       "      <th>stage</th>\n",
       "      <th>toss_winner</th>\n",
       "      <th>toss_decision</th>\n",
       "      <th>first_ings_score</th>\n",
       "      <th>first_ings_wkts</th>\n",
       "      <th>...</th>\n",
       "      <th>second_ings_wkts</th>\n",
       "      <th>match_winner</th>\n",
       "      <th>won_by</th>\n",
       "      <th>margin</th>\n",
       "      <th>player_of_the_match</th>\n",
       "      <th>top_scorer</th>\n",
       "      <th>highscore</th>\n",
       "      <th>best_bowling</th>\n",
       "      <th>best_bowling_figure</th>\n",
       "      <th>highest_wickets</th>\n",
       "    </tr>\n",
       "  </thead>\n",
       "  <tbody>\n",
       "    <tr>\n",
       "      <th>0</th>\n",
       "      <td>1</td>\n",
       "      <td>March 26,2022</td>\n",
       "      <td>Wankhede Stadium, Mumbai</td>\n",
       "      <td>Chennai</td>\n",
       "      <td>Kolkata</td>\n",
       "      <td>Group</td>\n",
       "      <td>Kolkata</td>\n",
       "      <td>Field</td>\n",
       "      <td>131</td>\n",
       "      <td>5</td>\n",
       "      <td>...</td>\n",
       "      <td>4</td>\n",
       "      <td>Kolkata</td>\n",
       "      <td>Wickets</td>\n",
       "      <td>6</td>\n",
       "      <td>Umesh Yadav</td>\n",
       "      <td>MS Dhoni</td>\n",
       "      <td>50</td>\n",
       "      <td>Dwayne Bravo</td>\n",
       "      <td>3--20</td>\n",
       "      <td>3</td>\n",
       "    </tr>\n",
       "    <tr>\n",
       "      <th>1</th>\n",
       "      <td>2</td>\n",
       "      <td>March 27,2022</td>\n",
       "      <td>Brabourne Stadium, Mumbai</td>\n",
       "      <td>Delhi</td>\n",
       "      <td>Mumbai</td>\n",
       "      <td>Group</td>\n",
       "      <td>Delhi</td>\n",
       "      <td>Field</td>\n",
       "      <td>177</td>\n",
       "      <td>5</td>\n",
       "      <td>...</td>\n",
       "      <td>6</td>\n",
       "      <td>Delhi</td>\n",
       "      <td>Wickets</td>\n",
       "      <td>4</td>\n",
       "      <td>Kuldeep Yadav</td>\n",
       "      <td>Ishan Kishan</td>\n",
       "      <td>81</td>\n",
       "      <td>Kuldeep Yadav</td>\n",
       "      <td>3--18</td>\n",
       "      <td>3</td>\n",
       "    </tr>\n",
       "    <tr>\n",
       "      <th>2</th>\n",
       "      <td>3</td>\n",
       "      <td>March 27,2022</td>\n",
       "      <td>Dr DY Patil Sports Academy, Mumbai</td>\n",
       "      <td>Banglore</td>\n",
       "      <td>Punjab</td>\n",
       "      <td>Group</td>\n",
       "      <td>Punjab</td>\n",
       "      <td>Field</td>\n",
       "      <td>205</td>\n",
       "      <td>2</td>\n",
       "      <td>...</td>\n",
       "      <td>5</td>\n",
       "      <td>Punjab</td>\n",
       "      <td>Wickets</td>\n",
       "      <td>5</td>\n",
       "      <td>Odean Smith</td>\n",
       "      <td>Faf du Plessis</td>\n",
       "      <td>88</td>\n",
       "      <td>Mohammed Siraj</td>\n",
       "      <td>2--59</td>\n",
       "      <td>2</td>\n",
       "    </tr>\n",
       "    <tr>\n",
       "      <th>3</th>\n",
       "      <td>4</td>\n",
       "      <td>March 28,2022</td>\n",
       "      <td>Wankhede Stadium, Mumbai</td>\n",
       "      <td>Gujarat</td>\n",
       "      <td>Lucknow</td>\n",
       "      <td>Group</td>\n",
       "      <td>Gujarat</td>\n",
       "      <td>Field</td>\n",
       "      <td>158</td>\n",
       "      <td>6</td>\n",
       "      <td>...</td>\n",
       "      <td>5</td>\n",
       "      <td>Gujarat</td>\n",
       "      <td>Wickets</td>\n",
       "      <td>5</td>\n",
       "      <td>Mohammed Shami</td>\n",
       "      <td>Deepak Hooda</td>\n",
       "      <td>55</td>\n",
       "      <td>Mohammed Shami</td>\n",
       "      <td>3--25</td>\n",
       "      <td>3</td>\n",
       "    </tr>\n",
       "    <tr>\n",
       "      <th>4</th>\n",
       "      <td>5</td>\n",
       "      <td>March 29,2022</td>\n",
       "      <td>Maharashtra Cricket Association Stadium,Pune</td>\n",
       "      <td>Hyderabad</td>\n",
       "      <td>Rajasthan</td>\n",
       "      <td>Group</td>\n",
       "      <td>Hyderabad</td>\n",
       "      <td>Field</td>\n",
       "      <td>210</td>\n",
       "      <td>6</td>\n",
       "      <td>...</td>\n",
       "      <td>7</td>\n",
       "      <td>Rajasthan</td>\n",
       "      <td>Runs</td>\n",
       "      <td>61</td>\n",
       "      <td>Sanju Samson</td>\n",
       "      <td>Aiden Markram</td>\n",
       "      <td>57</td>\n",
       "      <td>Yuzvendra Chahal</td>\n",
       "      <td>3--22</td>\n",
       "      <td>3</td>\n",
       "    </tr>\n",
       "    <tr>\n",
       "      <th>5</th>\n",
       "      <td>6</td>\n",
       "      <td>March 30,2022</td>\n",
       "      <td>Dr DY Patil Sports Academy, Mumbai</td>\n",
       "      <td>Banglore</td>\n",
       "      <td>Kolkata</td>\n",
       "      <td>Group</td>\n",
       "      <td>Banglore</td>\n",
       "      <td>Field</td>\n",
       "      <td>128</td>\n",
       "      <td>10</td>\n",
       "      <td>...</td>\n",
       "      <td>7</td>\n",
       "      <td>Banglore</td>\n",
       "      <td>Wickets</td>\n",
       "      <td>3</td>\n",
       "      <td>Wanindu Hasaranga</td>\n",
       "      <td>Sherfane Rutherford</td>\n",
       "      <td>28</td>\n",
       "      <td>Wanindu Hasaranga</td>\n",
       "      <td>4--20</td>\n",
       "      <td>4</td>\n",
       "    </tr>\n",
       "    <tr>\n",
       "      <th>6</th>\n",
       "      <td>7</td>\n",
       "      <td>March 31,2022</td>\n",
       "      <td>Brabourne Stadium, Mumbai</td>\n",
       "      <td>Chennai</td>\n",
       "      <td>Lucknow</td>\n",
       "      <td>Group</td>\n",
       "      <td>Lucknow</td>\n",
       "      <td>Field</td>\n",
       "      <td>210</td>\n",
       "      <td>7</td>\n",
       "      <td>...</td>\n",
       "      <td>4</td>\n",
       "      <td>Lucknow</td>\n",
       "      <td>Wickets</td>\n",
       "      <td>6</td>\n",
       "      <td>Evin Lewis</td>\n",
       "      <td>Quinton de Kock</td>\n",
       "      <td>61</td>\n",
       "      <td>Ravi Bishnoi</td>\n",
       "      <td>2--24</td>\n",
       "      <td>2</td>\n",
       "    </tr>\n",
       "    <tr>\n",
       "      <th>7</th>\n",
       "      <td>8</td>\n",
       "      <td>April 1,2022</td>\n",
       "      <td>Wankhede Stadium, Mumbai</td>\n",
       "      <td>Kolkata</td>\n",
       "      <td>Punjab</td>\n",
       "      <td>Group</td>\n",
       "      <td>Kolkata</td>\n",
       "      <td>Field</td>\n",
       "      <td>137</td>\n",
       "      <td>10</td>\n",
       "      <td>...</td>\n",
       "      <td>4</td>\n",
       "      <td>Kolkata</td>\n",
       "      <td>Wickets</td>\n",
       "      <td>6</td>\n",
       "      <td>Umesh Yadav</td>\n",
       "      <td>Andre Russell</td>\n",
       "      <td>70</td>\n",
       "      <td>Umesh Yadav</td>\n",
       "      <td>4--23</td>\n",
       "      <td>4</td>\n",
       "    </tr>\n",
       "    <tr>\n",
       "      <th>8</th>\n",
       "      <td>9</td>\n",
       "      <td>April 2,2022</td>\n",
       "      <td>Dr DY Patil Sports Academy, Mumbai</td>\n",
       "      <td>Mumbai</td>\n",
       "      <td>Rajasthan</td>\n",
       "      <td>Group</td>\n",
       "      <td>Mumbai</td>\n",
       "      <td>Field</td>\n",
       "      <td>193</td>\n",
       "      <td>8</td>\n",
       "      <td>...</td>\n",
       "      <td>8</td>\n",
       "      <td>Rajasthan</td>\n",
       "      <td>Runs</td>\n",
       "      <td>23</td>\n",
       "      <td>Jos Buttler</td>\n",
       "      <td>Jos Buttler</td>\n",
       "      <td>100</td>\n",
       "      <td>Jasprit Bumrah</td>\n",
       "      <td>3--17</td>\n",
       "      <td>3</td>\n",
       "    </tr>\n",
       "    <tr>\n",
       "      <th>9</th>\n",
       "      <td>10</td>\n",
       "      <td>April 2,2022</td>\n",
       "      <td>Maharashtra Cricket Association Stadium,Pune</td>\n",
       "      <td>Delhi</td>\n",
       "      <td>Gujarat</td>\n",
       "      <td>Group</td>\n",
       "      <td>Delhi</td>\n",
       "      <td>Field</td>\n",
       "      <td>171</td>\n",
       "      <td>6</td>\n",
       "      <td>...</td>\n",
       "      <td>9</td>\n",
       "      <td>Gujarat</td>\n",
       "      <td>Runs</td>\n",
       "      <td>14</td>\n",
       "      <td>Lockie Ferguson</td>\n",
       "      <td>Shubman Gill</td>\n",
       "      <td>84</td>\n",
       "      <td>Lockie Ferguson</td>\n",
       "      <td>4--28</td>\n",
       "      <td>4</td>\n",
       "    </tr>\n",
       "    <tr>\n",
       "      <th>10</th>\n",
       "      <td>11</td>\n",
       "      <td>April 3,2022</td>\n",
       "      <td>Brabourne Stadium, Mumbai</td>\n",
       "      <td>Chennai</td>\n",
       "      <td>Punjab</td>\n",
       "      <td>Group</td>\n",
       "      <td>Chennai</td>\n",
       "      <td>Field</td>\n",
       "      <td>180</td>\n",
       "      <td>8</td>\n",
       "      <td>...</td>\n",
       "      <td>10</td>\n",
       "      <td>Punjab</td>\n",
       "      <td>Runs</td>\n",
       "      <td>54</td>\n",
       "      <td>Liam Livingstone</td>\n",
       "      <td>Liam Livingstone</td>\n",
       "      <td>60</td>\n",
       "      <td>Rahul Chahar</td>\n",
       "      <td>3--25</td>\n",
       "      <td>3</td>\n",
       "    </tr>\n",
       "    <tr>\n",
       "      <th>11</th>\n",
       "      <td>12</td>\n",
       "      <td>April 4,2022</td>\n",
       "      <td>Dr DY Patil Sports Academy, Mumbai</td>\n",
       "      <td>Hyderabad</td>\n",
       "      <td>Lucknow</td>\n",
       "      <td>Group</td>\n",
       "      <td>Hyderabad</td>\n",
       "      <td>Field</td>\n",
       "      <td>169</td>\n",
       "      <td>7</td>\n",
       "      <td>...</td>\n",
       "      <td>9</td>\n",
       "      <td>Lucknow</td>\n",
       "      <td>Runs</td>\n",
       "      <td>12</td>\n",
       "      <td>Avesh Khan</td>\n",
       "      <td>KL Rahul</td>\n",
       "      <td>68</td>\n",
       "      <td>Avesh Khan</td>\n",
       "      <td>4--24</td>\n",
       "      <td>4</td>\n",
       "    </tr>\n",
       "    <tr>\n",
       "      <th>12</th>\n",
       "      <td>13</td>\n",
       "      <td>April 5,2022</td>\n",
       "      <td>Wankhede Stadium, Mumbai</td>\n",
       "      <td>Banglore</td>\n",
       "      <td>Rajasthan</td>\n",
       "      <td>Group</td>\n",
       "      <td>Banglore</td>\n",
       "      <td>Field</td>\n",
       "      <td>169</td>\n",
       "      <td>3</td>\n",
       "      <td>...</td>\n",
       "      <td>6</td>\n",
       "      <td>Banglore</td>\n",
       "      <td>Wickets</td>\n",
       "      <td>4</td>\n",
       "      <td>Dinesh Karthik</td>\n",
       "      <td>Jos Buttler</td>\n",
       "      <td>70</td>\n",
       "      <td>Yuzvendra Chahal</td>\n",
       "      <td>2--15</td>\n",
       "      <td>2</td>\n",
       "    </tr>\n",
       "    <tr>\n",
       "      <th>13</th>\n",
       "      <td>14</td>\n",
       "      <td>April 6,2022</td>\n",
       "      <td>Maharashtra Cricket Association Stadium,Pune</td>\n",
       "      <td>Kolkata</td>\n",
       "      <td>Mumbai</td>\n",
       "      <td>Group</td>\n",
       "      <td>Kolkata</td>\n",
       "      <td>Field</td>\n",
       "      <td>161</td>\n",
       "      <td>4</td>\n",
       "      <td>...</td>\n",
       "      <td>5</td>\n",
       "      <td>Kolkata</td>\n",
       "      <td>Wickets</td>\n",
       "      <td>5</td>\n",
       "      <td>Pat Cummins</td>\n",
       "      <td>Pat Cummins</td>\n",
       "      <td>56</td>\n",
       "      <td>Murugan Ashwin</td>\n",
       "      <td>2--25</td>\n",
       "      <td>2</td>\n",
       "    </tr>\n",
       "    <tr>\n",
       "      <th>14</th>\n",
       "      <td>15</td>\n",
       "      <td>April 7,2022</td>\n",
       "      <td>Dr DY Patil Sports Academy, Mumbai</td>\n",
       "      <td>Delhi</td>\n",
       "      <td>Lucknow</td>\n",
       "      <td>Group</td>\n",
       "      <td>Lucknow</td>\n",
       "      <td>Field</td>\n",
       "      <td>149</td>\n",
       "      <td>3</td>\n",
       "      <td>...</td>\n",
       "      <td>4</td>\n",
       "      <td>Lucknow</td>\n",
       "      <td>Wickets</td>\n",
       "      <td>6</td>\n",
       "      <td>Quinton de Kock</td>\n",
       "      <td>Quinton de Kock</td>\n",
       "      <td>80</td>\n",
       "      <td>Ravi Bishnoi</td>\n",
       "      <td>2--22</td>\n",
       "      <td>2</td>\n",
       "    </tr>\n",
       "    <tr>\n",
       "      <th>15</th>\n",
       "      <td>16</td>\n",
       "      <td>April 8,2022</td>\n",
       "      <td>Brabourne Stadium, Mumbai</td>\n",
       "      <td>Gujarat</td>\n",
       "      <td>Punjab</td>\n",
       "      <td>Group</td>\n",
       "      <td>Gujarat</td>\n",
       "      <td>Field</td>\n",
       "      <td>189</td>\n",
       "      <td>9</td>\n",
       "      <td>...</td>\n",
       "      <td>4</td>\n",
       "      <td>Gujarat</td>\n",
       "      <td>Wickets</td>\n",
       "      <td>6</td>\n",
       "      <td>Shubman Gill</td>\n",
       "      <td>Shubman Gill</td>\n",
       "      <td>96</td>\n",
       "      <td>Rashid Khan</td>\n",
       "      <td>3--22</td>\n",
       "      <td>3</td>\n",
       "    </tr>\n",
       "    <tr>\n",
       "      <th>16</th>\n",
       "      <td>17</td>\n",
       "      <td>April 9,2022</td>\n",
       "      <td>Dr DY Patil Sports Academy, Mumbai</td>\n",
       "      <td>Chennai</td>\n",
       "      <td>Hyderabad</td>\n",
       "      <td>Group</td>\n",
       "      <td>Hyderabad</td>\n",
       "      <td>Field</td>\n",
       "      <td>154</td>\n",
       "      <td>7</td>\n",
       "      <td>...</td>\n",
       "      <td>2</td>\n",
       "      <td>Hyderabad</td>\n",
       "      <td>Wickets</td>\n",
       "      <td>8</td>\n",
       "      <td>Abhishek Sharma</td>\n",
       "      <td>Abhishek Sharma</td>\n",
       "      <td>75</td>\n",
       "      <td>Washington Sundar</td>\n",
       "      <td>2--21</td>\n",
       "      <td>2</td>\n",
       "    </tr>\n",
       "    <tr>\n",
       "      <th>17</th>\n",
       "      <td>18</td>\n",
       "      <td>April 9,2022</td>\n",
       "      <td>Maharashtra Cricket Association Stadium,Pune</td>\n",
       "      <td>Banglore</td>\n",
       "      <td>Mumbai</td>\n",
       "      <td>Group</td>\n",
       "      <td>Banglore</td>\n",
       "      <td>Field</td>\n",
       "      <td>151</td>\n",
       "      <td>6</td>\n",
       "      <td>...</td>\n",
       "      <td>3</td>\n",
       "      <td>Banglore</td>\n",
       "      <td>Wickets</td>\n",
       "      <td>7</td>\n",
       "      <td>Anuj Rawat</td>\n",
       "      <td>Suryakumar Yadav</td>\n",
       "      <td>68</td>\n",
       "      <td>Harshal Patel</td>\n",
       "      <td>2--23</td>\n",
       "      <td>2</td>\n",
       "    </tr>\n",
       "    <tr>\n",
       "      <th>18</th>\n",
       "      <td>19</td>\n",
       "      <td>April 10,2022</td>\n",
       "      <td>Brabourne Stadium, Mumbai</td>\n",
       "      <td>Delhi</td>\n",
       "      <td>Kolkata</td>\n",
       "      <td>Group</td>\n",
       "      <td>Kolkata</td>\n",
       "      <td>Field</td>\n",
       "      <td>215</td>\n",
       "      <td>5</td>\n",
       "      <td>...</td>\n",
       "      <td>10</td>\n",
       "      <td>Delhi</td>\n",
       "      <td>Runs</td>\n",
       "      <td>44</td>\n",
       "      <td>Kuldeep Yadav</td>\n",
       "      <td>David Warner</td>\n",
       "      <td>61</td>\n",
       "      <td>Kuldeep Yadav</td>\n",
       "      <td>4--35</td>\n",
       "      <td>4</td>\n",
       "    </tr>\n",
       "    <tr>\n",
       "      <th>19</th>\n",
       "      <td>20</td>\n",
       "      <td>April 10,2022</td>\n",
       "      <td>Wankhede Stadium, Mumbai</td>\n",
       "      <td>Lucknow</td>\n",
       "      <td>Rajasthan</td>\n",
       "      <td>Group</td>\n",
       "      <td>Lucknow</td>\n",
       "      <td>Field</td>\n",
       "      <td>165</td>\n",
       "      <td>6</td>\n",
       "      <td>...</td>\n",
       "      <td>8</td>\n",
       "      <td>Rajasthan</td>\n",
       "      <td>Runs</td>\n",
       "      <td>3</td>\n",
       "      <td>Yuzvendra Chahal</td>\n",
       "      <td>Shimron Hetmyer</td>\n",
       "      <td>59</td>\n",
       "      <td>Yuzvendra Chahal</td>\n",
       "      <td>4--41</td>\n",
       "      <td>4</td>\n",
       "    </tr>\n",
       "  </tbody>\n",
       "</table>\n",
       "<p>20 rows × 21 columns</p>\n",
       "</div>"
      ],
      "text/plain": [
       "    match_id           date                                         venue  \\\n",
       "0          1  March 26,2022                      Wankhede Stadium, Mumbai   \n",
       "1          2  March 27,2022                     Brabourne Stadium, Mumbai   \n",
       "2          3  March 27,2022            Dr DY Patil Sports Academy, Mumbai   \n",
       "3          4  March 28,2022                      Wankhede Stadium, Mumbai   \n",
       "4          5  March 29,2022  Maharashtra Cricket Association Stadium,Pune   \n",
       "5          6  March 30,2022            Dr DY Patil Sports Academy, Mumbai   \n",
       "6          7  March 31,2022                     Brabourne Stadium, Mumbai   \n",
       "7          8   April 1,2022                      Wankhede Stadium, Mumbai   \n",
       "8          9   April 2,2022            Dr DY Patil Sports Academy, Mumbai   \n",
       "9         10   April 2,2022  Maharashtra Cricket Association Stadium,Pune   \n",
       "10        11   April 3,2022                     Brabourne Stadium, Mumbai   \n",
       "11        12   April 4,2022            Dr DY Patil Sports Academy, Mumbai   \n",
       "12        13   April 5,2022                      Wankhede Stadium, Mumbai   \n",
       "13        14   April 6,2022  Maharashtra Cricket Association Stadium,Pune   \n",
       "14        15   April 7,2022            Dr DY Patil Sports Academy, Mumbai   \n",
       "15        16   April 8,2022                     Brabourne Stadium, Mumbai   \n",
       "16        17   April 9,2022            Dr DY Patil Sports Academy, Mumbai   \n",
       "17        18   April 9,2022  Maharashtra Cricket Association Stadium,Pune   \n",
       "18        19  April 10,2022                     Brabourne Stadium, Mumbai   \n",
       "19        20  April 10,2022                      Wankhede Stadium, Mumbai   \n",
       "\n",
       "        team1      team2  stage toss_winner toss_decision  first_ings_score  \\\n",
       "0     Chennai    Kolkata  Group     Kolkata         Field               131   \n",
       "1       Delhi     Mumbai  Group       Delhi         Field               177   \n",
       "2    Banglore     Punjab  Group      Punjab         Field               205   \n",
       "3     Gujarat    Lucknow  Group     Gujarat         Field               158   \n",
       "4   Hyderabad  Rajasthan  Group   Hyderabad         Field               210   \n",
       "5    Banglore    Kolkata  Group    Banglore         Field               128   \n",
       "6     Chennai    Lucknow  Group     Lucknow         Field               210   \n",
       "7     Kolkata     Punjab  Group     Kolkata         Field               137   \n",
       "8      Mumbai  Rajasthan  Group      Mumbai         Field               193   \n",
       "9       Delhi    Gujarat  Group       Delhi         Field               171   \n",
       "10    Chennai     Punjab  Group     Chennai         Field               180   \n",
       "11  Hyderabad    Lucknow  Group   Hyderabad         Field               169   \n",
       "12   Banglore  Rajasthan  Group    Banglore         Field               169   \n",
       "13    Kolkata     Mumbai  Group     Kolkata         Field               161   \n",
       "14      Delhi    Lucknow  Group     Lucknow         Field               149   \n",
       "15    Gujarat     Punjab  Group     Gujarat         Field               189   \n",
       "16    Chennai  Hyderabad  Group   Hyderabad         Field               154   \n",
       "17   Banglore     Mumbai  Group    Banglore         Field               151   \n",
       "18      Delhi    Kolkata  Group     Kolkata         Field               215   \n",
       "19    Lucknow  Rajasthan  Group     Lucknow         Field               165   \n",
       "\n",
       "    first_ings_wkts  ...  second_ings_wkts  match_winner   won_by margin  \\\n",
       "0                 5  ...                 4       Kolkata  Wickets      6   \n",
       "1                 5  ...                 6         Delhi  Wickets      4   \n",
       "2                 2  ...                 5        Punjab  Wickets      5   \n",
       "3                 6  ...                 5       Gujarat  Wickets      5   \n",
       "4                 6  ...                 7     Rajasthan     Runs     61   \n",
       "5                10  ...                 7      Banglore  Wickets      3   \n",
       "6                 7  ...                 4       Lucknow  Wickets      6   \n",
       "7                10  ...                 4       Kolkata  Wickets      6   \n",
       "8                 8  ...                 8     Rajasthan     Runs     23   \n",
       "9                 6  ...                 9       Gujarat     Runs     14   \n",
       "10                8  ...                10        Punjab     Runs     54   \n",
       "11                7  ...                 9       Lucknow     Runs     12   \n",
       "12                3  ...                 6      Banglore  Wickets      4   \n",
       "13                4  ...                 5       Kolkata  Wickets      5   \n",
       "14                3  ...                 4       Lucknow  Wickets      6   \n",
       "15                9  ...                 4       Gujarat  Wickets      6   \n",
       "16                7  ...                 2     Hyderabad  Wickets      8   \n",
       "17                6  ...                 3      Banglore  Wickets      7   \n",
       "18                5  ...                10         Delhi     Runs     44   \n",
       "19                6  ...                 8     Rajasthan     Runs      3   \n",
       "\n",
       "    player_of_the_match           top_scorer highscore       best_bowling  \\\n",
       "0           Umesh Yadav             MS Dhoni        50       Dwayne Bravo   \n",
       "1         Kuldeep Yadav         Ishan Kishan        81      Kuldeep Yadav   \n",
       "2           Odean Smith       Faf du Plessis        88     Mohammed Siraj   \n",
       "3        Mohammed Shami         Deepak Hooda        55     Mohammed Shami   \n",
       "4          Sanju Samson        Aiden Markram        57   Yuzvendra Chahal   \n",
       "5     Wanindu Hasaranga  Sherfane Rutherford        28  Wanindu Hasaranga   \n",
       "6            Evin Lewis      Quinton de Kock        61       Ravi Bishnoi   \n",
       "7           Umesh Yadav        Andre Russell        70        Umesh Yadav   \n",
       "8           Jos Buttler          Jos Buttler       100     Jasprit Bumrah   \n",
       "9       Lockie Ferguson         Shubman Gill        84    Lockie Ferguson   \n",
       "10     Liam Livingstone     Liam Livingstone        60       Rahul Chahar   \n",
       "11           Avesh Khan             KL Rahul        68         Avesh Khan   \n",
       "12       Dinesh Karthik          Jos Buttler        70   Yuzvendra Chahal   \n",
       "13          Pat Cummins          Pat Cummins        56     Murugan Ashwin   \n",
       "14      Quinton de Kock      Quinton de Kock        80       Ravi Bishnoi   \n",
       "15         Shubman Gill         Shubman Gill        96        Rashid Khan   \n",
       "16      Abhishek Sharma      Abhishek Sharma        75  Washington Sundar   \n",
       "17           Anuj Rawat     Suryakumar Yadav        68      Harshal Patel   \n",
       "18        Kuldeep Yadav         David Warner        61      Kuldeep Yadav   \n",
       "19     Yuzvendra Chahal      Shimron Hetmyer        59   Yuzvendra Chahal   \n",
       "\n",
       "   best_bowling_figure highest_wickets  \n",
       "0                3--20               3  \n",
       "1                3--18               3  \n",
       "2                2--59               2  \n",
       "3                3--25               3  \n",
       "4                3--22               3  \n",
       "5                4--20               4  \n",
       "6                2--24               2  \n",
       "7                4--23               4  \n",
       "8                3--17               3  \n",
       "9                4--28               4  \n",
       "10               3--25               3  \n",
       "11               4--24               4  \n",
       "12               2--15               2  \n",
       "13               2--25               2  \n",
       "14               2--22               2  \n",
       "15               3--22               3  \n",
       "16               2--21               2  \n",
       "17               2--23               2  \n",
       "18               4--35               4  \n",
       "19               4--41               4  \n",
       "\n",
       "[20 rows x 21 columns]"
      ]
     },
     "execution_count": 47,
     "metadata": {},
     "output_type": "execute_result"
    }
   ],
   "source": [
    "df.head(20)"
   ]
  },
  {
   "cell_type": "code",
   "execution_count": 48,
   "id": "08b19e71",
   "metadata": {},
   "outputs": [
    {
     "data": {
      "application/vnd.microsoft.datawrangler.viewer.v0+json": {
       "columns": [
        {
         "name": "index",
         "rawType": "int64",
         "type": "integer"
        },
        {
         "name": "match_winner",
         "rawType": "object",
         "type": "string"
        },
        {
         "name": "margin",
         "rawType": "int64",
         "type": "integer"
        }
       ],
       "ref": "6f1ea98b-1241-4883-ad2d-3fcb7fcceea4",
       "rows": [
        [
         "54",
         "Chennai",
         "91"
        ]
       ],
       "shape": {
        "columns": 2,
        "rows": 1
       }
      },
      "text/html": [
       "<div>\n",
       "<style scoped>\n",
       "    .dataframe tbody tr th:only-of-type {\n",
       "        vertical-align: middle;\n",
       "    }\n",
       "\n",
       "    .dataframe tbody tr th {\n",
       "        vertical-align: top;\n",
       "    }\n",
       "\n",
       "    .dataframe thead th {\n",
       "        text-align: right;\n",
       "    }\n",
       "</style>\n",
       "<table border=\"1\" class=\"dataframe\">\n",
       "  <thead>\n",
       "    <tr style=\"text-align: right;\">\n",
       "      <th></th>\n",
       "      <th>match_winner</th>\n",
       "      <th>margin</th>\n",
       "    </tr>\n",
       "  </thead>\n",
       "  <tbody>\n",
       "    <tr>\n",
       "      <th>54</th>\n",
       "      <td>Chennai</td>\n",
       "      <td>91</td>\n",
       "    </tr>\n",
       "  </tbody>\n",
       "</table>\n",
       "</div>"
      ],
      "text/plain": [
       "   match_winner  margin\n",
       "54      Chennai      91"
      ]
     },
     "execution_count": 48,
     "metadata": {},
     "output_type": "execute_result"
    }
   ],
   "source": [
    "df[df['won_by'] == 'Runs'].sort_values(by = 'margin',ascending=False).head(1)[['match_winner','margin']]"
   ]
  },
  {
   "cell_type": "markdown",
   "id": "b8587069",
   "metadata": {},
   "source": [
    "Q1.2: Who won the highest margin by runs?"
   ]
  },
  {
   "cell_type": "code",
   "execution_count": 49,
   "id": "d5c32c51",
   "metadata": {},
   "outputs": [
    {
     "data": {
      "application/vnd.microsoft.datawrangler.viewer.v0+json": {
       "columns": [
        {
         "name": "index",
         "rawType": "int64",
         "type": "integer"
        },
        {
         "name": "match_winner",
         "rawType": "object",
         "type": "string"
        },
        {
         "name": "margin",
         "rawType": "int64",
         "type": "integer"
        }
       ],
       "ref": "26a41aed-3d1f-44dd-843b-2ad6ec5e07bb",
       "rows": [
        [
         "35",
         "Hyderabad",
         "9"
        ]
       ],
       "shape": {
        "columns": 2,
        "rows": 1
       }
      },
      "text/html": [
       "<div>\n",
       "<style scoped>\n",
       "    .dataframe tbody tr th:only-of-type {\n",
       "        vertical-align: middle;\n",
       "    }\n",
       "\n",
       "    .dataframe tbody tr th {\n",
       "        vertical-align: top;\n",
       "    }\n",
       "\n",
       "    .dataframe thead th {\n",
       "        text-align: right;\n",
       "    }\n",
       "</style>\n",
       "<table border=\"1\" class=\"dataframe\">\n",
       "  <thead>\n",
       "    <tr style=\"text-align: right;\">\n",
       "      <th></th>\n",
       "      <th>match_winner</th>\n",
       "      <th>margin</th>\n",
       "    </tr>\n",
       "  </thead>\n",
       "  <tbody>\n",
       "    <tr>\n",
       "      <th>35</th>\n",
       "      <td>Hyderabad</td>\n",
       "      <td>9</td>\n",
       "    </tr>\n",
       "  </tbody>\n",
       "</table>\n",
       "</div>"
      ],
      "text/plain": [
       "   match_winner  margin\n",
       "35    Hyderabad       9"
      ]
     },
     "execution_count": 49,
     "metadata": {},
     "output_type": "execute_result"
    }
   ],
   "source": [
    "df[df['won_by'] == 'Wickets'].sort_values(by = 'margin',ascending=False).head(1)[['match_winner','margin']]"
   ]
  },
  {
   "cell_type": "markdown",
   "id": "071eb3ad-5e4a-4ceb-af04-ba1b4871cd3d",
   "metadata": {},
   "source": [
    "Q2: Which player had the highest individual score?"
   ]
  },
  {
   "cell_type": "code",
   "execution_count": 50,
   "id": "0150db8d-fbcd-432a-8594-0dcff4d3a73d",
   "metadata": {},
   "outputs": [
    {
     "data": {
      "application/vnd.microsoft.datawrangler.viewer.v0+json": {
       "columns": [
        {
         "name": "index",
         "rawType": "int64",
         "type": "integer"
        },
        {
         "name": "top_scorer",
         "rawType": "object",
         "type": "string"
        },
        {
         "name": "highscore",
         "rawType": "int64",
         "type": "integer"
        }
       ],
       "ref": "2678b11b-45eb-4c88-90af-8c5486927c87",
       "rows": [
        [
         "65",
         "Quinton de Kock",
         "140"
        ]
       ],
       "shape": {
        "columns": 2,
        "rows": 1
       }
      },
      "text/html": [
       "<div>\n",
       "<style scoped>\n",
       "    .dataframe tbody tr th:only-of-type {\n",
       "        vertical-align: middle;\n",
       "    }\n",
       "\n",
       "    .dataframe tbody tr th {\n",
       "        vertical-align: top;\n",
       "    }\n",
       "\n",
       "    .dataframe thead th {\n",
       "        text-align: right;\n",
       "    }\n",
       "</style>\n",
       "<table border=\"1\" class=\"dataframe\">\n",
       "  <thead>\n",
       "    <tr style=\"text-align: right;\">\n",
       "      <th></th>\n",
       "      <th>top_scorer</th>\n",
       "      <th>highscore</th>\n",
       "    </tr>\n",
       "  </thead>\n",
       "  <tbody>\n",
       "    <tr>\n",
       "      <th>65</th>\n",
       "      <td>Quinton de Kock</td>\n",
       "      <td>140</td>\n",
       "    </tr>\n",
       "  </tbody>\n",
       "</table>\n",
       "</div>"
      ],
      "text/plain": [
       "         top_scorer  highscore\n",
       "65  Quinton de Kock        140"
      ]
     },
     "execution_count": 50,
     "metadata": {},
     "output_type": "execute_result"
    }
   ],
   "source": [
    "df[df['highscore'] == df['highscore'].max()][['top_scorer','highscore']]"
   ]
  },
  {
   "cell_type": "markdown",
   "id": "8504e7bf-5d54-4e1f-8d8b-4054df1fd5fd",
   "metadata": {},
   "source": [
    "Q3: Which bowler had the best bowling figures?"
   ]
  },
  {
   "cell_type": "code",
   "execution_count": 31,
   "id": "c03ea3d0-80d8-4982-9710-5fc113f19d48",
   "metadata": {},
   "outputs": [
    {
     "data": {
      "application/vnd.microsoft.datawrangler.viewer.v0+json": {
       "columns": [
        {
         "name": "index",
         "rawType": "int64",
         "type": "integer"
        },
        {
         "name": "match_id",
         "rawType": "int64",
         "type": "integer"
        },
        {
         "name": "date",
         "rawType": "object",
         "type": "string"
        },
        {
         "name": "venue",
         "rawType": "object",
         "type": "string"
        },
        {
         "name": "team1",
         "rawType": "object",
         "type": "string"
        },
        {
         "name": "team2",
         "rawType": "object",
         "type": "string"
        },
        {
         "name": "stage",
         "rawType": "object",
         "type": "string"
        },
        {
         "name": "toss_winner",
         "rawType": "object",
         "type": "string"
        },
        {
         "name": "toss_decision",
         "rawType": "object",
         "type": "string"
        },
        {
         "name": "first_ings_score",
         "rawType": "int64",
         "type": "integer"
        },
        {
         "name": "first_ings_wkts",
         "rawType": "int64",
         "type": "integer"
        },
        {
         "name": "second_ings_score",
         "rawType": "int64",
         "type": "integer"
        },
        {
         "name": "second_ings_wkts",
         "rawType": "int64",
         "type": "integer"
        },
        {
         "name": "match_winner",
         "rawType": "object",
         "type": "string"
        },
        {
         "name": "won_by",
         "rawType": "object",
         "type": "string"
        },
        {
         "name": "margin",
         "rawType": "int64",
         "type": "integer"
        },
        {
         "name": "player_of_the_match",
         "rawType": "object",
         "type": "string"
        },
        {
         "name": "top_scorer",
         "rawType": "object",
         "type": "string"
        },
        {
         "name": "highscore",
         "rawType": "int64",
         "type": "integer"
        },
        {
         "name": "best_bowling",
         "rawType": "object",
         "type": "string"
        },
        {
         "name": "best_bowling_figure",
         "rawType": "object",
         "type": "string"
        },
        {
         "name": "highest_wickets",
         "rawType": "int32",
         "type": "integer"
        }
       ],
       "ref": "bc479328-c86c-43cb-b509-9875b79989cd",
       "rows": [
        [
         "0",
         "1",
         "March 26,2022",
         "Wankhede Stadium, Mumbai",
         "Chennai",
         "Kolkata",
         "Group",
         "Kolkata",
         "Field",
         "131",
         "5",
         "133",
         "4",
         "Kolkata",
         "Wickets",
         "6",
         "Umesh Yadav",
         "MS Dhoni",
         "50",
         "Dwayne Bravo",
         "3--20",
         "3"
        ],
        [
         "1",
         "2",
         "March 27,2022",
         "Brabourne Stadium, Mumbai",
         "Delhi",
         "Mumbai",
         "Group",
         "Delhi",
         "Field",
         "177",
         "5",
         "179",
         "6",
         "Delhi",
         "Wickets",
         "4",
         "Kuldeep Yadav",
         "Ishan Kishan",
         "81",
         "Kuldeep Yadav",
         "3--18",
         "3"
        ],
        [
         "2",
         "3",
         "March 27,2022",
         "Dr DY Patil Sports Academy, Mumbai",
         "Banglore",
         "Punjab",
         "Group",
         "Punjab",
         "Field",
         "205",
         "2",
         "208",
         "5",
         "Punjab",
         "Wickets",
         "5",
         "Odean Smith",
         "Faf du Plessis",
         "88",
         "Mohammed Siraj",
         "2--59",
         "2"
        ]
       ],
       "shape": {
        "columns": 21,
        "rows": 3
       }
      },
      "text/html": [
       "<div>\n",
       "<style scoped>\n",
       "    .dataframe tbody tr th:only-of-type {\n",
       "        vertical-align: middle;\n",
       "    }\n",
       "\n",
       "    .dataframe tbody tr th {\n",
       "        vertical-align: top;\n",
       "    }\n",
       "\n",
       "    .dataframe thead th {\n",
       "        text-align: right;\n",
       "    }\n",
       "</style>\n",
       "<table border=\"1\" class=\"dataframe\">\n",
       "  <thead>\n",
       "    <tr style=\"text-align: right;\">\n",
       "      <th></th>\n",
       "      <th>match_id</th>\n",
       "      <th>date</th>\n",
       "      <th>venue</th>\n",
       "      <th>team1</th>\n",
       "      <th>team2</th>\n",
       "      <th>stage</th>\n",
       "      <th>toss_winner</th>\n",
       "      <th>toss_decision</th>\n",
       "      <th>first_ings_score</th>\n",
       "      <th>first_ings_wkts</th>\n",
       "      <th>...</th>\n",
       "      <th>second_ings_wkts</th>\n",
       "      <th>match_winner</th>\n",
       "      <th>won_by</th>\n",
       "      <th>margin</th>\n",
       "      <th>player_of_the_match</th>\n",
       "      <th>top_scorer</th>\n",
       "      <th>highscore</th>\n",
       "      <th>best_bowling</th>\n",
       "      <th>best_bowling_figure</th>\n",
       "      <th>highest_wickets</th>\n",
       "    </tr>\n",
       "  </thead>\n",
       "  <tbody>\n",
       "    <tr>\n",
       "      <th>0</th>\n",
       "      <td>1</td>\n",
       "      <td>March 26,2022</td>\n",
       "      <td>Wankhede Stadium, Mumbai</td>\n",
       "      <td>Chennai</td>\n",
       "      <td>Kolkata</td>\n",
       "      <td>Group</td>\n",
       "      <td>Kolkata</td>\n",
       "      <td>Field</td>\n",
       "      <td>131</td>\n",
       "      <td>5</td>\n",
       "      <td>...</td>\n",
       "      <td>4</td>\n",
       "      <td>Kolkata</td>\n",
       "      <td>Wickets</td>\n",
       "      <td>6</td>\n",
       "      <td>Umesh Yadav</td>\n",
       "      <td>MS Dhoni</td>\n",
       "      <td>50</td>\n",
       "      <td>Dwayne Bravo</td>\n",
       "      <td>3--20</td>\n",
       "      <td>3</td>\n",
       "    </tr>\n",
       "    <tr>\n",
       "      <th>1</th>\n",
       "      <td>2</td>\n",
       "      <td>March 27,2022</td>\n",
       "      <td>Brabourne Stadium, Mumbai</td>\n",
       "      <td>Delhi</td>\n",
       "      <td>Mumbai</td>\n",
       "      <td>Group</td>\n",
       "      <td>Delhi</td>\n",
       "      <td>Field</td>\n",
       "      <td>177</td>\n",
       "      <td>5</td>\n",
       "      <td>...</td>\n",
       "      <td>6</td>\n",
       "      <td>Delhi</td>\n",
       "      <td>Wickets</td>\n",
       "      <td>4</td>\n",
       "      <td>Kuldeep Yadav</td>\n",
       "      <td>Ishan Kishan</td>\n",
       "      <td>81</td>\n",
       "      <td>Kuldeep Yadav</td>\n",
       "      <td>3--18</td>\n",
       "      <td>3</td>\n",
       "    </tr>\n",
       "    <tr>\n",
       "      <th>2</th>\n",
       "      <td>3</td>\n",
       "      <td>March 27,2022</td>\n",
       "      <td>Dr DY Patil Sports Academy, Mumbai</td>\n",
       "      <td>Banglore</td>\n",
       "      <td>Punjab</td>\n",
       "      <td>Group</td>\n",
       "      <td>Punjab</td>\n",
       "      <td>Field</td>\n",
       "      <td>205</td>\n",
       "      <td>2</td>\n",
       "      <td>...</td>\n",
       "      <td>5</td>\n",
       "      <td>Punjab</td>\n",
       "      <td>Wickets</td>\n",
       "      <td>5</td>\n",
       "      <td>Odean Smith</td>\n",
       "      <td>Faf du Plessis</td>\n",
       "      <td>88</td>\n",
       "      <td>Mohammed Siraj</td>\n",
       "      <td>2--59</td>\n",
       "      <td>2</td>\n",
       "    </tr>\n",
       "  </tbody>\n",
       "</table>\n",
       "<p>3 rows × 21 columns</p>\n",
       "</div>"
      ],
      "text/plain": [
       "   match_id           date                               venue     team1  \\\n",
       "0         1  March 26,2022            Wankhede Stadium, Mumbai   Chennai   \n",
       "1         2  March 27,2022           Brabourne Stadium, Mumbai     Delhi   \n",
       "2         3  March 27,2022  Dr DY Patil Sports Academy, Mumbai  Banglore   \n",
       "\n",
       "     team2  stage toss_winner toss_decision  first_ings_score  \\\n",
       "0  Kolkata  Group     Kolkata         Field               131   \n",
       "1   Mumbai  Group       Delhi         Field               177   \n",
       "2   Punjab  Group      Punjab         Field               205   \n",
       "\n",
       "   first_ings_wkts  ...  second_ings_wkts  match_winner   won_by margin  \\\n",
       "0                5  ...                 4       Kolkata  Wickets      6   \n",
       "1                5  ...                 6         Delhi  Wickets      4   \n",
       "2                2  ...                 5        Punjab  Wickets      5   \n",
       "\n",
       "   player_of_the_match      top_scorer highscore    best_bowling  \\\n",
       "0          Umesh Yadav        MS Dhoni        50    Dwayne Bravo   \n",
       "1        Kuldeep Yadav    Ishan Kishan        81   Kuldeep Yadav   \n",
       "2          Odean Smith  Faf du Plessis        88  Mohammed Siraj   \n",
       "\n",
       "  best_bowling_figure highest_wickets  \n",
       "0               3--20               3  \n",
       "1               3--18               3  \n",
       "2               2--59               2  \n",
       "\n",
       "[3 rows x 21 columns]"
      ]
     },
     "execution_count": 31,
     "metadata": {},
     "output_type": "execute_result"
    }
   ],
   "source": [
    "df.head(3)"
   ]
  },
  {
   "cell_type": "code",
   "execution_count": 51,
   "id": "b36806a8-e52f-46e7-86b3-f1496a0f192c",
   "metadata": {},
   "outputs": [
    {
     "data": {
      "application/vnd.microsoft.datawrangler.viewer.v0+json": {
       "columns": [
        {
         "name": "index",
         "rawType": "int64",
         "type": "integer"
        },
        {
         "name": "best_bowling",
         "rawType": "object",
         "type": "string"
        },
        {
         "name": "best_bowling_figure",
         "rawType": "object",
         "type": "string"
        }
       ],
       "ref": "0cdbd329-5d27-43a7-93be-0aab6c9f9393",
       "rows": [
        [
         "29",
         "Yuzvendra Chahal",
         "5--40"
        ],
        [
         "39",
         "Umran Malik",
         "5--25"
        ],
        [
         "53",
         "Wanindu Hasaranga",
         "5--18"
        ],
        [
         "55",
         "Jasprit Bumrah",
         "5--10"
        ]
       ],
       "shape": {
        "columns": 2,
        "rows": 4
       }
      },
      "text/html": [
       "<div>\n",
       "<style scoped>\n",
       "    .dataframe tbody tr th:only-of-type {\n",
       "        vertical-align: middle;\n",
       "    }\n",
       "\n",
       "    .dataframe tbody tr th {\n",
       "        vertical-align: top;\n",
       "    }\n",
       "\n",
       "    .dataframe thead th {\n",
       "        text-align: right;\n",
       "    }\n",
       "</style>\n",
       "<table border=\"1\" class=\"dataframe\">\n",
       "  <thead>\n",
       "    <tr style=\"text-align: right;\">\n",
       "      <th></th>\n",
       "      <th>best_bowling</th>\n",
       "      <th>best_bowling_figure</th>\n",
       "    </tr>\n",
       "  </thead>\n",
       "  <tbody>\n",
       "    <tr>\n",
       "      <th>29</th>\n",
       "      <td>Yuzvendra Chahal</td>\n",
       "      <td>5--40</td>\n",
       "    </tr>\n",
       "    <tr>\n",
       "      <th>39</th>\n",
       "      <td>Umran Malik</td>\n",
       "      <td>5--25</td>\n",
       "    </tr>\n",
       "    <tr>\n",
       "      <th>53</th>\n",
       "      <td>Wanindu Hasaranga</td>\n",
       "      <td>5--18</td>\n",
       "    </tr>\n",
       "    <tr>\n",
       "      <th>55</th>\n",
       "      <td>Jasprit Bumrah</td>\n",
       "      <td>5--10</td>\n",
       "    </tr>\n",
       "  </tbody>\n",
       "</table>\n",
       "</div>"
      ],
      "text/plain": [
       "         best_bowling best_bowling_figure\n",
       "29   Yuzvendra Chahal               5--40\n",
       "39        Umran Malik               5--25\n",
       "53  Wanindu Hasaranga               5--18\n",
       "55     Jasprit Bumrah               5--10"
      ]
     },
     "execution_count": 51,
     "metadata": {},
     "output_type": "execute_result"
    }
   ],
   "source": [
    "df[df['highest_wickets'] == df['highest_wickets'].max()][['best_bowling','best_bowling_figure']]"
   ]
  }
 ],
 "metadata": {
  "kernelspec": {
   "display_name": "Python 3",
   "language": "python",
   "name": "python3"
  },
  "language_info": {
   "codemirror_mode": {
    "name": "ipython",
    "version": 3
   },
   "file_extension": ".py",
   "mimetype": "text/x-python",
   "name": "python",
   "nbconvert_exporter": "python",
   "pygments_lexer": "ipython3",
   "version": "3.10.11"
  }
 },
 "nbformat": 4,
 "nbformat_minor": 5
}
